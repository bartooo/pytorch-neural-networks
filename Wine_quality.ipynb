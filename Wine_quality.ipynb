{
 "cells": [
  {
   "cell_type": "code",
   "execution_count": 1,
   "id": "3c9ccf29",
   "metadata": {},
   "outputs": [],
   "source": [
    "import pandas as pd\n",
    "import torch\n",
    "import torch.utils.data as data\n",
    "import torch.nn as nn\n",
    "import torch.nn.functional as F\n",
    "from matplotlib import pyplot as plt\n",
    "import matplotlib\n",
    "import seaborn as sns\n",
    "import numpy as np"
   ]
  },
  {
   "cell_type": "markdown",
   "id": "6fbb5a08",
   "metadata": {},
   "source": [
    "## Load the data"
   ]
  },
  {
   "cell_type": "code",
   "execution_count": 2,
   "id": "fd57c611",
   "metadata": {},
   "outputs": [],
   "source": [
    "import pandas as pd\n",
    "df = pd.read_csv('https://archive.ics.uci.edu/ml/machine-learning-databases/wine-quality/winequality-white.csv', delimiter=\";\")"
   ]
  },
  {
   "cell_type": "code",
   "execution_count": 3,
   "id": "f76dea29",
   "metadata": {},
   "outputs": [
    {
     "name": "stdout",
     "output_type": "stream",
     "text": [
      "Device cuda\n"
     ]
    }
   ],
   "source": [
    "device = torch.device(\"cuda\") if torch.cuda.is_available() else torch.device(\"cpu\")\n",
    "# device = torch.device(\"cpu\")\n",
    "print(\"Device\", device)"
   ]
  },
  {
   "cell_type": "code",
   "execution_count": 4,
   "id": "59e05119",
   "metadata": {},
   "outputs": [
    {
     "data": {
      "text/html": [
       "<div>\n",
       "<style scoped>\n",
       "    .dataframe tbody tr th:only-of-type {\n",
       "        vertical-align: middle;\n",
       "    }\n",
       "\n",
       "    .dataframe tbody tr th {\n",
       "        vertical-align: top;\n",
       "    }\n",
       "\n",
       "    .dataframe thead th {\n",
       "        text-align: right;\n",
       "    }\n",
       "</style>\n",
       "<table border=\"1\" class=\"dataframe\">\n",
       "  <thead>\n",
       "    <tr style=\"text-align: right;\">\n",
       "      <th></th>\n",
       "      <th>fixed acidity</th>\n",
       "      <th>volatile acidity</th>\n",
       "      <th>citric acid</th>\n",
       "      <th>residual sugar</th>\n",
       "      <th>chlorides</th>\n",
       "      <th>free sulfur dioxide</th>\n",
       "      <th>total sulfur dioxide</th>\n",
       "      <th>density</th>\n",
       "      <th>pH</th>\n",
       "      <th>sulphates</th>\n",
       "      <th>alcohol</th>\n",
       "      <th>quality</th>\n",
       "    </tr>\n",
       "  </thead>\n",
       "  <tbody>\n",
       "    <tr>\n",
       "      <th>0</th>\n",
       "      <td>7.0</td>\n",
       "      <td>0.27</td>\n",
       "      <td>0.36</td>\n",
       "      <td>20.7</td>\n",
       "      <td>0.045</td>\n",
       "      <td>45.0</td>\n",
       "      <td>170.0</td>\n",
       "      <td>1.00100</td>\n",
       "      <td>3.00</td>\n",
       "      <td>0.45</td>\n",
       "      <td>8.8</td>\n",
       "      <td>6</td>\n",
       "    </tr>\n",
       "    <tr>\n",
       "      <th>1</th>\n",
       "      <td>6.3</td>\n",
       "      <td>0.30</td>\n",
       "      <td>0.34</td>\n",
       "      <td>1.6</td>\n",
       "      <td>0.049</td>\n",
       "      <td>14.0</td>\n",
       "      <td>132.0</td>\n",
       "      <td>0.99400</td>\n",
       "      <td>3.30</td>\n",
       "      <td>0.49</td>\n",
       "      <td>9.5</td>\n",
       "      <td>6</td>\n",
       "    </tr>\n",
       "    <tr>\n",
       "      <th>2</th>\n",
       "      <td>8.1</td>\n",
       "      <td>0.28</td>\n",
       "      <td>0.40</td>\n",
       "      <td>6.9</td>\n",
       "      <td>0.050</td>\n",
       "      <td>30.0</td>\n",
       "      <td>97.0</td>\n",
       "      <td>0.99510</td>\n",
       "      <td>3.26</td>\n",
       "      <td>0.44</td>\n",
       "      <td>10.1</td>\n",
       "      <td>6</td>\n",
       "    </tr>\n",
       "    <tr>\n",
       "      <th>3</th>\n",
       "      <td>7.2</td>\n",
       "      <td>0.23</td>\n",
       "      <td>0.32</td>\n",
       "      <td>8.5</td>\n",
       "      <td>0.058</td>\n",
       "      <td>47.0</td>\n",
       "      <td>186.0</td>\n",
       "      <td>0.99560</td>\n",
       "      <td>3.19</td>\n",
       "      <td>0.40</td>\n",
       "      <td>9.9</td>\n",
       "      <td>6</td>\n",
       "    </tr>\n",
       "    <tr>\n",
       "      <th>4</th>\n",
       "      <td>7.2</td>\n",
       "      <td>0.23</td>\n",
       "      <td>0.32</td>\n",
       "      <td>8.5</td>\n",
       "      <td>0.058</td>\n",
       "      <td>47.0</td>\n",
       "      <td>186.0</td>\n",
       "      <td>0.99560</td>\n",
       "      <td>3.19</td>\n",
       "      <td>0.40</td>\n",
       "      <td>9.9</td>\n",
       "      <td>6</td>\n",
       "    </tr>\n",
       "    <tr>\n",
       "      <th>...</th>\n",
       "      <td>...</td>\n",
       "      <td>...</td>\n",
       "      <td>...</td>\n",
       "      <td>...</td>\n",
       "      <td>...</td>\n",
       "      <td>...</td>\n",
       "      <td>...</td>\n",
       "      <td>...</td>\n",
       "      <td>...</td>\n",
       "      <td>...</td>\n",
       "      <td>...</td>\n",
       "      <td>...</td>\n",
       "    </tr>\n",
       "    <tr>\n",
       "      <th>4893</th>\n",
       "      <td>6.2</td>\n",
       "      <td>0.21</td>\n",
       "      <td>0.29</td>\n",
       "      <td>1.6</td>\n",
       "      <td>0.039</td>\n",
       "      <td>24.0</td>\n",
       "      <td>92.0</td>\n",
       "      <td>0.99114</td>\n",
       "      <td>3.27</td>\n",
       "      <td>0.50</td>\n",
       "      <td>11.2</td>\n",
       "      <td>6</td>\n",
       "    </tr>\n",
       "    <tr>\n",
       "      <th>4894</th>\n",
       "      <td>6.6</td>\n",
       "      <td>0.32</td>\n",
       "      <td>0.36</td>\n",
       "      <td>8.0</td>\n",
       "      <td>0.047</td>\n",
       "      <td>57.0</td>\n",
       "      <td>168.0</td>\n",
       "      <td>0.99490</td>\n",
       "      <td>3.15</td>\n",
       "      <td>0.46</td>\n",
       "      <td>9.6</td>\n",
       "      <td>5</td>\n",
       "    </tr>\n",
       "    <tr>\n",
       "      <th>4895</th>\n",
       "      <td>6.5</td>\n",
       "      <td>0.24</td>\n",
       "      <td>0.19</td>\n",
       "      <td>1.2</td>\n",
       "      <td>0.041</td>\n",
       "      <td>30.0</td>\n",
       "      <td>111.0</td>\n",
       "      <td>0.99254</td>\n",
       "      <td>2.99</td>\n",
       "      <td>0.46</td>\n",
       "      <td>9.4</td>\n",
       "      <td>6</td>\n",
       "    </tr>\n",
       "    <tr>\n",
       "      <th>4896</th>\n",
       "      <td>5.5</td>\n",
       "      <td>0.29</td>\n",
       "      <td>0.30</td>\n",
       "      <td>1.1</td>\n",
       "      <td>0.022</td>\n",
       "      <td>20.0</td>\n",
       "      <td>110.0</td>\n",
       "      <td>0.98869</td>\n",
       "      <td>3.34</td>\n",
       "      <td>0.38</td>\n",
       "      <td>12.8</td>\n",
       "      <td>7</td>\n",
       "    </tr>\n",
       "    <tr>\n",
       "      <th>4897</th>\n",
       "      <td>6.0</td>\n",
       "      <td>0.21</td>\n",
       "      <td>0.38</td>\n",
       "      <td>0.8</td>\n",
       "      <td>0.020</td>\n",
       "      <td>22.0</td>\n",
       "      <td>98.0</td>\n",
       "      <td>0.98941</td>\n",
       "      <td>3.26</td>\n",
       "      <td>0.32</td>\n",
       "      <td>11.8</td>\n",
       "      <td>6</td>\n",
       "    </tr>\n",
       "  </tbody>\n",
       "</table>\n",
       "<p>4898 rows × 12 columns</p>\n",
       "</div>"
      ],
      "text/plain": [
       "      fixed acidity  volatile acidity  citric acid  residual sugar  chlorides  \\\n",
       "0               7.0              0.27         0.36            20.7      0.045   \n",
       "1               6.3              0.30         0.34             1.6      0.049   \n",
       "2               8.1              0.28         0.40             6.9      0.050   \n",
       "3               7.2              0.23         0.32             8.5      0.058   \n",
       "4               7.2              0.23         0.32             8.5      0.058   \n",
       "...             ...               ...          ...             ...        ...   \n",
       "4893            6.2              0.21         0.29             1.6      0.039   \n",
       "4894            6.6              0.32         0.36             8.0      0.047   \n",
       "4895            6.5              0.24         0.19             1.2      0.041   \n",
       "4896            5.5              0.29         0.30             1.1      0.022   \n",
       "4897            6.0              0.21         0.38             0.8      0.020   \n",
       "\n",
       "      free sulfur dioxide  total sulfur dioxide  density    pH  sulphates  \\\n",
       "0                    45.0                 170.0  1.00100  3.00       0.45   \n",
       "1                    14.0                 132.0  0.99400  3.30       0.49   \n",
       "2                    30.0                  97.0  0.99510  3.26       0.44   \n",
       "3                    47.0                 186.0  0.99560  3.19       0.40   \n",
       "4                    47.0                 186.0  0.99560  3.19       0.40   \n",
       "...                   ...                   ...      ...   ...        ...   \n",
       "4893                 24.0                  92.0  0.99114  3.27       0.50   \n",
       "4894                 57.0                 168.0  0.99490  3.15       0.46   \n",
       "4895                 30.0                 111.0  0.99254  2.99       0.46   \n",
       "4896                 20.0                 110.0  0.98869  3.34       0.38   \n",
       "4897                 22.0                  98.0  0.98941  3.26       0.32   \n",
       "\n",
       "      alcohol  quality  \n",
       "0         8.8        6  \n",
       "1         9.5        6  \n",
       "2        10.1        6  \n",
       "3         9.9        6  \n",
       "4         9.9        6  \n",
       "...       ...      ...  \n",
       "4893     11.2        6  \n",
       "4894      9.6        5  \n",
       "4895      9.4        6  \n",
       "4896     12.8        7  \n",
       "4897     11.8        6  \n",
       "\n",
       "[4898 rows x 12 columns]"
      ]
     },
     "execution_count": 4,
     "metadata": {},
     "output_type": "execute_result"
    }
   ],
   "source": [
    "df"
   ]
  },
  {
   "cell_type": "markdown",
   "id": "3b0eee14",
   "metadata": {},
   "source": [
    "## Take a quick view at the data"
   ]
  },
  {
   "cell_type": "code",
   "execution_count": 5,
   "id": "52dfa1be",
   "metadata": {},
   "outputs": [
    {
     "data": {
      "text/html": [
       "<div>\n",
       "<style scoped>\n",
       "    .dataframe tbody tr th:only-of-type {\n",
       "        vertical-align: middle;\n",
       "    }\n",
       "\n",
       "    .dataframe tbody tr th {\n",
       "        vertical-align: top;\n",
       "    }\n",
       "\n",
       "    .dataframe thead th {\n",
       "        text-align: right;\n",
       "    }\n",
       "</style>\n",
       "<table border=\"1\" class=\"dataframe\">\n",
       "  <thead>\n",
       "    <tr style=\"text-align: right;\">\n",
       "      <th></th>\n",
       "      <th>fixed acidity</th>\n",
       "      <th>volatile acidity</th>\n",
       "      <th>citric acid</th>\n",
       "      <th>residual sugar</th>\n",
       "      <th>chlorides</th>\n",
       "      <th>free sulfur dioxide</th>\n",
       "      <th>total sulfur dioxide</th>\n",
       "      <th>density</th>\n",
       "      <th>pH</th>\n",
       "      <th>sulphates</th>\n",
       "      <th>alcohol</th>\n",
       "      <th>quality</th>\n",
       "    </tr>\n",
       "  </thead>\n",
       "  <tbody>\n",
       "    <tr>\n",
       "      <th>count</th>\n",
       "      <td>4898.000000</td>\n",
       "      <td>4898.000000</td>\n",
       "      <td>4898.000000</td>\n",
       "      <td>4898.000000</td>\n",
       "      <td>4898.000000</td>\n",
       "      <td>4898.000000</td>\n",
       "      <td>4898.000000</td>\n",
       "      <td>4898.000000</td>\n",
       "      <td>4898.000000</td>\n",
       "      <td>4898.000000</td>\n",
       "      <td>4898.000000</td>\n",
       "      <td>4898.000000</td>\n",
       "    </tr>\n",
       "    <tr>\n",
       "      <th>mean</th>\n",
       "      <td>6.854788</td>\n",
       "      <td>0.278241</td>\n",
       "      <td>0.334192</td>\n",
       "      <td>6.391415</td>\n",
       "      <td>0.045772</td>\n",
       "      <td>35.308085</td>\n",
       "      <td>138.360657</td>\n",
       "      <td>0.994027</td>\n",
       "      <td>3.188267</td>\n",
       "      <td>0.489847</td>\n",
       "      <td>10.514267</td>\n",
       "      <td>5.877909</td>\n",
       "    </tr>\n",
       "    <tr>\n",
       "      <th>std</th>\n",
       "      <td>0.843868</td>\n",
       "      <td>0.100795</td>\n",
       "      <td>0.121020</td>\n",
       "      <td>5.072058</td>\n",
       "      <td>0.021848</td>\n",
       "      <td>17.007137</td>\n",
       "      <td>42.498065</td>\n",
       "      <td>0.002991</td>\n",
       "      <td>0.151001</td>\n",
       "      <td>0.114126</td>\n",
       "      <td>1.230621</td>\n",
       "      <td>0.885639</td>\n",
       "    </tr>\n",
       "    <tr>\n",
       "      <th>min</th>\n",
       "      <td>3.800000</td>\n",
       "      <td>0.080000</td>\n",
       "      <td>0.000000</td>\n",
       "      <td>0.600000</td>\n",
       "      <td>0.009000</td>\n",
       "      <td>2.000000</td>\n",
       "      <td>9.000000</td>\n",
       "      <td>0.987110</td>\n",
       "      <td>2.720000</td>\n",
       "      <td>0.220000</td>\n",
       "      <td>8.000000</td>\n",
       "      <td>3.000000</td>\n",
       "    </tr>\n",
       "    <tr>\n",
       "      <th>25%</th>\n",
       "      <td>6.300000</td>\n",
       "      <td>0.210000</td>\n",
       "      <td>0.270000</td>\n",
       "      <td>1.700000</td>\n",
       "      <td>0.036000</td>\n",
       "      <td>23.000000</td>\n",
       "      <td>108.000000</td>\n",
       "      <td>0.991723</td>\n",
       "      <td>3.090000</td>\n",
       "      <td>0.410000</td>\n",
       "      <td>9.500000</td>\n",
       "      <td>5.000000</td>\n",
       "    </tr>\n",
       "    <tr>\n",
       "      <th>50%</th>\n",
       "      <td>6.800000</td>\n",
       "      <td>0.260000</td>\n",
       "      <td>0.320000</td>\n",
       "      <td>5.200000</td>\n",
       "      <td>0.043000</td>\n",
       "      <td>34.000000</td>\n",
       "      <td>134.000000</td>\n",
       "      <td>0.993740</td>\n",
       "      <td>3.180000</td>\n",
       "      <td>0.470000</td>\n",
       "      <td>10.400000</td>\n",
       "      <td>6.000000</td>\n",
       "    </tr>\n",
       "    <tr>\n",
       "      <th>75%</th>\n",
       "      <td>7.300000</td>\n",
       "      <td>0.320000</td>\n",
       "      <td>0.390000</td>\n",
       "      <td>9.900000</td>\n",
       "      <td>0.050000</td>\n",
       "      <td>46.000000</td>\n",
       "      <td>167.000000</td>\n",
       "      <td>0.996100</td>\n",
       "      <td>3.280000</td>\n",
       "      <td>0.550000</td>\n",
       "      <td>11.400000</td>\n",
       "      <td>6.000000</td>\n",
       "    </tr>\n",
       "    <tr>\n",
       "      <th>max</th>\n",
       "      <td>14.200000</td>\n",
       "      <td>1.100000</td>\n",
       "      <td>1.660000</td>\n",
       "      <td>65.800000</td>\n",
       "      <td>0.346000</td>\n",
       "      <td>289.000000</td>\n",
       "      <td>440.000000</td>\n",
       "      <td>1.038980</td>\n",
       "      <td>3.820000</td>\n",
       "      <td>1.080000</td>\n",
       "      <td>14.200000</td>\n",
       "      <td>9.000000</td>\n",
       "    </tr>\n",
       "  </tbody>\n",
       "</table>\n",
       "</div>"
      ],
      "text/plain": [
       "       fixed acidity  volatile acidity  citric acid  residual sugar  \\\n",
       "count    4898.000000       4898.000000  4898.000000     4898.000000   \n",
       "mean        6.854788          0.278241     0.334192        6.391415   \n",
       "std         0.843868          0.100795     0.121020        5.072058   \n",
       "min         3.800000          0.080000     0.000000        0.600000   \n",
       "25%         6.300000          0.210000     0.270000        1.700000   \n",
       "50%         6.800000          0.260000     0.320000        5.200000   \n",
       "75%         7.300000          0.320000     0.390000        9.900000   \n",
       "max        14.200000          1.100000     1.660000       65.800000   \n",
       "\n",
       "         chlorides  free sulfur dioxide  total sulfur dioxide      density  \\\n",
       "count  4898.000000          4898.000000           4898.000000  4898.000000   \n",
       "mean      0.045772            35.308085            138.360657     0.994027   \n",
       "std       0.021848            17.007137             42.498065     0.002991   \n",
       "min       0.009000             2.000000              9.000000     0.987110   \n",
       "25%       0.036000            23.000000            108.000000     0.991723   \n",
       "50%       0.043000            34.000000            134.000000     0.993740   \n",
       "75%       0.050000            46.000000            167.000000     0.996100   \n",
       "max       0.346000           289.000000            440.000000     1.038980   \n",
       "\n",
       "                pH    sulphates      alcohol      quality  \n",
       "count  4898.000000  4898.000000  4898.000000  4898.000000  \n",
       "mean      3.188267     0.489847    10.514267     5.877909  \n",
       "std       0.151001     0.114126     1.230621     0.885639  \n",
       "min       2.720000     0.220000     8.000000     3.000000  \n",
       "25%       3.090000     0.410000     9.500000     5.000000  \n",
       "50%       3.180000     0.470000    10.400000     6.000000  \n",
       "75%       3.280000     0.550000    11.400000     6.000000  \n",
       "max       3.820000     1.080000    14.200000     9.000000  "
      ]
     },
     "execution_count": 5,
     "metadata": {},
     "output_type": "execute_result"
    }
   ],
   "source": [
    "df.describe()"
   ]
  },
  {
   "cell_type": "code",
   "execution_count": 6,
   "id": "ce504b5e",
   "metadata": {},
   "outputs": [
    {
     "name": "stdout",
     "output_type": "stream",
     "text": [
      "<class 'pandas.core.frame.DataFrame'>\n",
      "RangeIndex: 4898 entries, 0 to 4897\n",
      "Data columns (total 12 columns):\n",
      " #   Column                Non-Null Count  Dtype  \n",
      "---  ------                --------------  -----  \n",
      " 0   fixed acidity         4898 non-null   float64\n",
      " 1   volatile acidity      4898 non-null   float64\n",
      " 2   citric acid           4898 non-null   float64\n",
      " 3   residual sugar        4898 non-null   float64\n",
      " 4   chlorides             4898 non-null   float64\n",
      " 5   free sulfur dioxide   4898 non-null   float64\n",
      " 6   total sulfur dioxide  4898 non-null   float64\n",
      " 7   density               4898 non-null   float64\n",
      " 8   pH                    4898 non-null   float64\n",
      " 9   sulphates             4898 non-null   float64\n",
      " 10  alcohol               4898 non-null   float64\n",
      " 11  quality               4898 non-null   int64  \n",
      "dtypes: float64(11), int64(1)\n",
      "memory usage: 459.3 KB\n"
     ]
    }
   ],
   "source": [
    "df.info()"
   ]
  },
  {
   "cell_type": "code",
   "execution_count": 7,
   "id": "97fcdd1e",
   "metadata": {},
   "outputs": [
    {
     "data": {
      "text/plain": [
       "array([[<AxesSubplot:title={'center':'fixed acidity'}>,\n",
       "        <AxesSubplot:title={'center':'volatile acidity'}>,\n",
       "        <AxesSubplot:title={'center':'citric acid'}>],\n",
       "       [<AxesSubplot:title={'center':'residual sugar'}>,\n",
       "        <AxesSubplot:title={'center':'chlorides'}>,\n",
       "        <AxesSubplot:title={'center':'free sulfur dioxide'}>],\n",
       "       [<AxesSubplot:title={'center':'total sulfur dioxide'}>,\n",
       "        <AxesSubplot:title={'center':'density'}>,\n",
       "        <AxesSubplot:title={'center':'pH'}>],\n",
       "       [<AxesSubplot:title={'center':'sulphates'}>,\n",
       "        <AxesSubplot:title={'center':'alcohol'}>,\n",
       "        <AxesSubplot:title={'center':'quality'}>]], dtype=object)"
      ]
     },
     "execution_count": 7,
     "metadata": {},
     "output_type": "execute_result"
    },
    {
     "data": {
      "image/png": "[encoded data removed]",
      "text/plain": [
       "<Figure size 1440x1080 with 12 Axes>"
      ]
     },
     "metadata": {
      "needs_background": "light"
     },
     "output_type": "display_data"
    }
   ],
   "source": [
    "df.hist(figsize=(20,15))"
   ]
  },
  {
   "cell_type": "markdown",
   "id": "ce9e8238",
   "metadata": {},
   "source": [
    "### Correlation matrix"
   ]
  },
  {
   "cell_type": "code",
   "execution_count": 8,
   "id": "615f76d7",
   "metadata": {},
   "outputs": [
    {
     "data": {
      "text/plain": [
       "<AxesSubplot:>"
      ]
     },
     "execution_count": 8,
     "metadata": {},
     "output_type": "execute_result"
    },
    {
     "data": {
      "image/png": "[encoded data removed]",
      "text/plain": [
       "<Figure size 1080x720 with 2 Axes>"
      ]
     },
     "metadata": {
      "needs_background": "light"
     },
     "output_type": "display_data"
    }
   ],
   "source": [
    "corr = df.corr()\n",
    "matplotlib.pyplot.subplots(figsize=(15,10))\n",
    "sns.heatmap(corr, xticklabels=corr.columns, yticklabels=corr.columns, annot=True, cmap=sns.diverging_palette(220, 20, as_cmap=True))"
   ]
  },
  {
   "cell_type": "markdown",
   "id": "6fac6fac",
   "metadata": {},
   "source": [
    "Make quality from 0 to 6"
   ]
  },
  {
   "cell_type": "code",
   "execution_count": 9,
   "id": "ce99f6a6",
   "metadata": {},
   "outputs": [],
   "source": [
    "df['quality'] = df['quality'] - 3"
   ]
  },
  {
   "cell_type": "code",
   "execution_count": 10,
   "id": "ec5eb9dd",
   "metadata": {},
   "outputs": [
    {
     "data": {
      "text/plain": [
       "<AxesSubplot:xlabel='quality', ylabel='count'>"
      ]
     },
     "execution_count": 10,
     "metadata": {},
     "output_type": "execute_result"
    },
    {
     "data": {
      "image/png": "[encoded data removed]",
      "text/plain": [
       "<Figure size 432x288 with 1 Axes>"
      ]
     },
     "metadata": {
      "needs_background": "light"
     },
     "output_type": "display_data"
    }
   ],
   "source": [
    "sns.countplot(x = 'quality', data=df)"
   ]
  },
  {
   "cell_type": "markdown",
   "id": "676b81a9",
   "metadata": {},
   "source": [
    "## Make train and test dataset"
   ]
  },
  {
   "cell_type": "code",
   "execution_count": 11,
   "id": "7033a734",
   "metadata": {},
   "outputs": [],
   "source": [
    "train_df = df.sample(frac=0.8,random_state=200) #random state is a seed value\n",
    "test_df = df.drop(train_df.index)"
   ]
  },
  {
   "cell_type": "code",
   "execution_count": 12,
   "id": "23884666",
   "metadata": {},
   "outputs": [],
   "source": [
    "X_train = train_df.values[:, :-1]\n",
    "y_train = train_df['quality'].to_numpy()"
   ]
  },
  {
   "cell_type": "code",
   "execution_count": 13,
   "id": "10f006d4",
   "metadata": {},
   "outputs": [],
   "source": [
    "X_test = test_df.values[:, :-1]\n",
    "y_test = test_df['quality'].to_numpy()"
   ]
  },
  {
   "cell_type": "code",
   "execution_count": 14,
   "id": "b20d3053",
   "metadata": {},
   "outputs": [],
   "source": [
    "X_train = (X_train - X_train.min()) / (X_train.max() - X_train.min())\n",
    "X_test = (X_test - X_test.min()) / (X_test.max() - X_test.min())"
   ]
  },
  {
   "cell_type": "markdown",
   "id": "c7a38517",
   "metadata": {},
   "source": [
    "## Compute class weights"
   ]
  },
  {
   "cell_type": "code",
   "execution_count": 15,
   "id": "2b241c5f-bfc8-4bc1-bf5b-f5b387b1ab44",
   "metadata": {},
   "outputs": [],
   "source": [
    "all_label_ids = torch.tensor(df['quality'], dtype=torch.long)"
   ]
  },
  {
   "cell_type": "code",
   "execution_count": 16,
   "id": "436a791a-130b-4588-8673-e39d49173ad5",
   "metadata": {},
   "outputs": [
    {
     "data": {
      "text/plain": [
       "tensor([3, 3, 3,  ..., 3, 4, 3])"
      ]
     },
     "execution_count": 16,
     "metadata": {},
     "output_type": "execute_result"
    }
   ],
   "source": [
    "all_label_ids"
   ]
  },
  {
   "cell_type": "code",
   "execution_count": 17,
   "id": "258faf78",
   "metadata": {},
   "outputs": [
    {
     "data": {
      "text/plain": [
       "(array([0, 1, 2, 3, 4, 5, 6]),\n",
       " array([  20,  163, 1457, 2198,  880,  175,    5]))"
      ]
     },
     "execution_count": 17,
     "metadata": {},
     "output_type": "execute_result"
    }
   ],
   "source": [
    "labels_unique, counts = np.unique(df['quality'], return_counts=True)\n",
    "labels_unique, counts"
   ]
  },
  {
   "cell_type": "code",
   "execution_count": 18,
   "id": "77c86a41",
   "metadata": {},
   "outputs": [
    {
     "data": {
      "text/plain": [
       "tensor([0.0500, 0.0061, 0.0007, 0.0005, 0.0011, 0.0057, 0.2000])"
      ]
     },
     "execution_count": 18,
     "metadata": {},
     "output_type": "execute_result"
    }
   ],
   "source": [
    "class_weights = 1./torch.tensor(counts, dtype=torch.float) \n",
    "class_weights"
   ]
  },
  {
   "cell_type": "code",
   "execution_count": 19,
   "id": "c4095dc2-6097-4e40-8f5d-14969d5ecc08",
   "metadata": {},
   "outputs": [],
   "source": [
    "example_weights = [class_weights[e] for e in y_train]"
   ]
  },
  {
   "cell_type": "code",
   "execution_count": 20,
   "id": "743c8b43",
   "metadata": {},
   "outputs": [],
   "source": [
    "weighted_sampler = data.WeightedRandomSampler(\n",
    "    weights=example_weights,\n",
    "    num_samples=len(example_weights),\n",
    "    replacement=True\n",
    ")"
   ]
  },
  {
   "cell_type": "code",
   "execution_count": 21,
   "id": "e3131304",
   "metadata": {},
   "outputs": [
    {
     "data": {
      "text/plain": [
       "(tensor([2.0737e-02, 8.1855e-04, 1.0095e-03, 4.3656e-03, 2.3738e-04, 7.3670e-02,\n",
       "         4.8295e-01, 2.7132e-03, 8.4311e-03, 1.3643e-03, 2.6739e-02],\n",
       "        dtype=torch.float64),\n",
       " tensor(2))"
      ]
     },
     "execution_count": 21,
     "metadata": {},
     "output_type": "execute_result"
    }
   ],
   "source": [
    "train_dataset = data.TensorDataset(torch.from_numpy(X_train),torch.from_numpy(y_train))\n",
    "train_data_loader = data.DataLoader(train_dataset, batch_size=32, sampler=weighted_sampler)\n",
    "next(iter(train_dataset))"
   ]
  },
  {
   "cell_type": "code",
   "execution_count": 22,
   "id": "ff0b3d5f",
   "metadata": {},
   "outputs": [
    {
     "data": {
      "text/plain": [
       "(tensor([1.8409e-02, 6.3636e-04, 9.0909e-04, 1.5682e-02, 1.1364e-04, 6.8182e-02,\n",
       "         2.2045e-01, 2.2616e-03, 7.4091e-03, 1.0000e-03, 2.2955e-02],\n",
       "        dtype=torch.float64),\n",
       " tensor(3))"
      ]
     },
     "execution_count": 22,
     "metadata": {},
     "output_type": "execute_result"
    }
   ],
   "source": [
    "test_dataset = data.TensorDataset(torch.from_numpy(X_test),torch.from_numpy(y_test))\n",
    "test_data_loader = data.DataLoader(test_dataset, batch_size=32, shuffle=True)\n",
    "next(iter(test_dataset))"
   ]
  },
  {
   "cell_type": "code",
   "execution_count": 51,
   "id": "5fd13f5e",
   "metadata": {},
   "outputs": [],
   "source": [
    "class Network(nn.Module):\n",
    "    def __init__(self, num_inputs, num_outputs):\n",
    "        super(Network, self).__init__()\n",
    "        \n",
    "        self.layer_1 = nn.Linear(num_inputs, 512)\n",
    "        self.layer_2 = nn.Linear(512, 256)\n",
    "        self.layer_3 = nn.Linear(256, 128)\n",
    "        self.layer_out = nn.Linear(128, num_outputs) \n",
    "        \n",
    "        self.relu = nn.ReLU()\n",
    "        self.dropout = nn.Dropout(p=0.2)\n",
    "        self.batchnorm1 = nn.BatchNorm1d(512)\n",
    "        self.batchnorm2 = nn.BatchNorm1d(256)\n",
    "        self.batchnorm3 = nn.BatchNorm1d(128)\n",
    "        \n",
    "    def forward(self, x):\n",
    "        x = self.layer_1(x)\n",
    "        x = self.batchnorm1(x)\n",
    "        x = self.relu(x)\n",
    "        \n",
    "        x = self.layer_2(x)\n",
    "        x = self.batchnorm2(x)\n",
    "        x = self.relu(x)\n",
    "        x = self.dropout(x)\n",
    "        \n",
    "        x = self.layer_3(x)\n",
    "        x = self.batchnorm3(x)\n",
    "        x = self.relu(x)\n",
    "        x = self.dropout(x)\n",
    "        \n",
    "        x = self.layer_out(x)\n",
    "        \n",
    "        return x"
   ]
  },
  {
   "cell_type": "code",
   "execution_count": 52,
   "id": "7f2b4696",
   "metadata": {},
   "outputs": [
    {
     "data": {
      "text/plain": [
       "Network(\n",
       "  (layer_1): Linear(in_features=11, out_features=512, bias=True)\n",
       "  (layer_2): Linear(in_features=512, out_features=256, bias=True)\n",
       "  (layer_3): Linear(in_features=256, out_features=128, bias=True)\n",
       "  (layer_out): Linear(in_features=128, out_features=7, bias=True)\n",
       "  (relu): ReLU()\n",
       "  (dropout): Dropout(p=0.2, inplace=False)\n",
       "  (batchnorm1): BatchNorm1d(512, eps=1e-05, momentum=0.1, affine=True, track_running_stats=True)\n",
       "  (batchnorm2): BatchNorm1d(256, eps=1e-05, momentum=0.1, affine=True, track_running_stats=True)\n",
       "  (batchnorm3): BatchNorm1d(128, eps=1e-05, momentum=0.1, affine=True, track_running_stats=True)\n",
       ")"
      ]
     },
     "execution_count": 52,
     "metadata": {},
     "output_type": "execute_result"
    }
   ],
   "source": [
    "model = Network(num_inputs=11, num_outputs=7)\n",
    "model.to(device)"
   ]
  },
  {
   "cell_type": "code",
   "execution_count": 53,
   "id": "ace24086",
   "metadata": {},
   "outputs": [],
   "source": [
    "optimizer = torch.optim.Adam(model.parameters(), lr = 0.001)"
   ]
  },
  {
   "cell_type": "code",
   "execution_count": 54,
   "id": "64f84fc3",
   "metadata": {},
   "outputs": [
    {
     "name": "stderr",
     "output_type": "stream",
     "text": [
      "/tmp/ipykernel_34227/2777410197.py:1: UserWarning: To copy construct from a tensor, it is recommended to use sourceTensor.clone().detach() or sourceTensor.clone().detach().requires_grad_(True), rather than torch.tensor(sourceTensor).\n",
      "  loss_module = nn.CrossEntropyLoss(weight=torch.tensor(class_weights).to(device).float())\n"
     ]
    }
   ],
   "source": [
    "loss_module = nn.CrossEntropyLoss(weight=torch.tensor(class_weights).to(device).float())"
   ]
  },
  {
   "cell_type": "code",
   "execution_count": 55,
   "id": "aa1593cb",
   "metadata": {},
   "outputs": [
    {
     "name": "stdout",
     "output_type": "stream",
     "text": [
      "Epoch: 0, loss: 0.291\n",
      "Epoch: 10, loss: 0.0952\n",
      "Epoch: 20, loss: 0.0561\n",
      "Epoch: 30, loss: 0.0717\n",
      "Epoch: 40, loss: 0.0725\n",
      "Epoch: 50, loss: 0.0332\n",
      "Epoch: 60, loss: 0.0743\n",
      "Epoch: 70, loss: 0.0391\n",
      "Epoch: 80, loss: 0.0437\n",
      "Epoch: 90, loss: 0.0735\n",
      "Epoch: 100, loss: 0.251\n",
      "Epoch: 110, loss: 0.0334\n",
      "Epoch: 120, loss: 0.369\n",
      "Epoch: 130, loss: 0.0674\n",
      "Epoch: 140, loss: 0.0415\n",
      "Epoch: 150, loss: 0.0708\n",
      "Epoch: 160, loss: 0.0197\n",
      "Epoch: 170, loss: 0.224\n",
      "Epoch: 180, loss: 0.071\n",
      "Epoch: 190, loss: 0.536\n",
      "Epoch: 200, loss: 0.0136\n",
      "Epoch: 210, loss: 0.514\n",
      "Epoch: 220, loss: 0.0133\n",
      "Epoch: 230, loss: 0.0164\n",
      "Epoch: 240, loss: 0.0318\n",
      "Epoch: 250, loss: 0.186\n",
      "Epoch: 260, loss: 0.049\n",
      "Epoch: 270, loss: 0.0232\n",
      "Epoch: 280, loss: 0.019\n",
      "Epoch: 290, loss: 0.0157\n"
     ]
    }
   ],
   "source": [
    "model.train() # Przełączenie modelu w tryb uczenia\n",
    "\n",
    "# Training loop\n",
    "for epoch in range(300):\n",
    "    for data_inputs, data_labels in train_data_loader:\n",
    "        ## Step 1: Move input data to device (only strictly necessary if we use GPU)\n",
    "        data_inputs = data_inputs.to(device)\n",
    "        data_labels = data_labels.to(device)\n",
    "        \n",
    "        ## Step 2: Run the model on the input data\n",
    "        y_preds = model(data_inputs.float())\n",
    "        \n",
    "        ## Step 3: Calculate the loss\n",
    "        loss = loss_module(y_preds.requires_grad_(True).float(), data_labels.type(torch.LongTensor).to(device))\n",
    "        \n",
    "        ## Step 4: Perform backpropagation\n",
    "        optimizer.zero_grad() \n",
    "        \n",
    "        loss.backward()\n",
    "\n",
    "        ## Step 5: Update the parameters\n",
    "        optimizer.step()\n",
    "    if epoch % 10 == 0:\n",
    "        print(f\"Epoch: {epoch}, loss: {loss.item():.3}\")"
   ]
  },
  {
   "cell_type": "code",
   "execution_count": 56,
   "id": "a28873d2",
   "metadata": {},
   "outputs": [
    {
     "name": "stdout",
     "output_type": "stream",
     "text": [
      "tensor([2, 2, 2, 3, 1, 4, 2, 2, 2, 2, 3, 5, 2, 2, 1, 1, 1, 2, 2, 3, 2, 3, 2, 1,\n",
      "        3, 2, 1, 1, 1, 2, 1, 1], device='cuda:0') tensor([2, 2, 2, 3, 2, 3, 3, 3, 3, 0, 1, 4, 2, 2, 3, 2, 3, 3, 3, 4, 2, 3, 2, 2,\n",
      "        3, 3, 4, 2, 2, 4, 2, 3], device='cuda:0')\n",
      "tensor([2, 3, 2, 2, 3, 1, 2, 1, 2, 3, 2, 2, 2, 1, 2, 2, 1, 2, 1, 2, 1, 2, 2, 1,\n",
      "        2, 1, 3, 2, 2, 3, 2, 2], device='cuda:0') tensor([3, 4, 5, 2, 4, 2, 2, 4, 2, 2, 3, 2, 4, 4, 3, 3, 1, 2, 1, 2, 3, 3, 2, 4,\n",
      "        1, 2, 3, 4, 2, 3, 4, 3], device='cuda:0')\n",
      "tensor([2, 2, 2, 2, 2, 3, 3, 2, 2, 2, 2, 2, 2, 2, 2, 2, 2, 2, 3, 3, 3, 2, 2, 0,\n",
      "        1, 2, 2, 2, 1, 1, 2, 1], device='cuda:0') tensor([3, 2, 3, 3, 2, 4, 4, 3, 3, 3, 3, 3, 4, 4, 3, 2, 4, 3, 4, 3, 4, 2, 3, 3,\n",
      "        3, 3, 2, 4, 3, 3, 2, 1], device='cuda:0')\n",
      "tensor([3, 4, 2, 2, 2, 2, 3, 2, 2, 1, 2, 3, 3, 5, 2, 1, 2, 2, 1, 2, 2, 4, 2, 2,\n",
      "        5, 3, 2, 2, 3, 4, 2, 0], device='cuda:0') tensor([3, 4, 3, 3, 3, 3, 4, 3, 2, 1, 2, 3, 4, 3, 3, 2, 3, 2, 4, 2, 2, 3, 1, 2,\n",
      "        3, 3, 2, 3, 5, 5, 1, 2], device='cuda:0')\n",
      "tensor([4, 2, 2, 1, 1, 1, 1, 2, 1, 3, 2, 5, 2, 2, 2, 1, 2, 1, 0, 2, 2, 2, 1, 2,\n",
      "        1, 2, 2, 2, 2, 1, 2, 2], device='cuda:0') tensor([4, 2, 3, 3, 3, 3, 3, 2, 2, 2, 2, 3, 4, 3, 3, 2, 2, 2, 4, 3, 2, 3, 2, 3,\n",
      "        2, 3, 2, 2, 2, 5, 3, 3], device='cuda:0')\n",
      "tensor([2, 2, 2, 0, 2, 1, 2, 1, 3, 1, 2, 2, 2, 2, 1, 2, 2, 3, 3, 1, 2, 2, 2, 3,\n",
      "        2, 2, 3, 1, 3, 1, 1, 2], device='cuda:0') tensor([3, 2, 2, 2, 2, 1, 2, 5, 3, 3, 3, 1, 2, 2, 3, 4, 2, 4, 3, 2, 2, 3, 2, 4,\n",
      "        3, 2, 3, 3, 4, 3, 4, 4], device='cuda:0')\n",
      "tensor([1, 1, 1, 5, 2, 2, 4, 2, 2, 2, 2, 2, 5, 3, 3, 2, 1, 2, 2, 1, 3, 1, 2, 2,\n",
      "        2, 2, 3, 2, 2, 2, 2, 1], device='cuda:0') tensor([3, 2, 3, 0, 3, 3, 3, 2, 4, 3, 2, 3, 3, 3, 4, 2, 3, 4, 4, 2, 3, 4, 4, 2,\n",
      "        4, 3, 4, 3, 3, 2, 3, 4], device='cuda:0')\n",
      "tensor([1, 2, 2, 2, 2, 2, 2, 2, 2, 4, 2, 2, 2, 2, 2, 1, 2, 2, 2, 2, 1, 2, 2, 1,\n",
      "        4, 2, 5, 2, 1, 2, 2, 2], device='cuda:0') tensor([2, 3, 3, 2, 2, 2, 5, 3, 1, 4, 5, 3, 4, 2, 3, 2, 3, 4, 3, 3, 4, 3, 2, 2,\n",
      "        3, 3, 3, 3, 3, 4, 4, 2], device='cuda:0')\n",
      "tensor([1, 2, 2, 0, 0, 1, 2, 1, 0, 1, 2, 1, 1, 1, 1, 1, 1, 1, 2, 3, 1, 1, 1, 2,\n",
      "        3, 2, 1, 2, 2, 1, 1, 2], device='cuda:0') tensor([4, 2, 4, 0, 3, 2, 2, 2, 2, 2, 2, 4, 2, 1, 4, 4, 4, 3, 0, 4, 2, 2, 2, 3,\n",
      "        5, 2, 1, 3, 3, 2, 4, 3], device='cuda:0')\n",
      "tensor([3, 1, 2, 1, 2, 2, 1, 2, 2, 3, 2, 1, 2, 2, 1, 1, 3, 2, 2, 1, 3, 1, 2, 2,\n",
      "        2, 3, 1, 1, 1, 1, 2, 2], device='cuda:0') tensor([3, 2, 3, 4, 4, 2, 2, 2, 2, 2, 2, 3, 2, 3, 3, 4, 3, 2, 2, 2, 3, 2, 2, 2,\n",
      "        2, 3, 2, 2, 3, 2, 2, 3], device='cuda:0')\n",
      "tensor([2, 1, 2, 1, 2, 1, 2, 2, 2, 2, 2, 2, 4, 1, 2, 2, 2, 2, 2, 2, 2, 1, 2, 2,\n",
      "        1, 4, 3, 2, 1, 2, 1, 2], device='cuda:0') tensor([3, 2, 4, 3, 4, 5, 3, 3, 2, 1, 2, 4, 3, 3, 4, 3, 4, 3, 5, 3, 3, 2, 4, 2,\n",
      "        3, 2, 4, 4, 2, 3, 4, 3], device='cuda:0')\n",
      "tensor([1, 2, 2, 2, 1, 2, 2, 3, 2, 1, 1, 1, 2, 2, 3, 1, 2, 2, 2, 2, 1, 1, 1, 1,\n",
      "        1, 1, 4, 2, 1, 2, 2, 3], device='cuda:0') tensor([3, 1, 3, 2, 4, 3, 3, 3, 3, 2, 4, 3, 2, 2, 3, 3, 5, 3, 3, 3, 2, 3, 2, 3,\n",
      "        3, 3, 3, 2, 3, 3, 3, 4], device='cuda:0')\n",
      "tensor([2, 2, 2, 1, 2, 2, 3, 2, 3, 2, 0, 2, 0, 3, 1, 2, 3, 2, 1, 2, 2, 2, 1, 2,\n",
      "        5, 2, 1, 3, 2, 1, 2, 2], device='cuda:0') tensor([2, 3, 2, 2, 4, 2, 3, 3, 3, 4, 3, 2, 2, 3, 3, 3, 3, 3, 2, 2, 1, 2, 4, 3,\n",
      "        2, 2, 2, 3, 3, 3, 5, 4], device='cuda:0')\n",
      "tensor([3, 2, 1, 3, 1, 1, 2, 2, 1, 2, 3, 2, 2, 2, 1, 2, 2, 1, 3, 3, 3, 2, 2, 1,\n",
      "        1, 2, 1, 2, 2, 1, 2, 2], device='cuda:0') tensor([3, 2, 3, 3, 2, 3, 2, 3, 2, 5, 3, 4, 4, 2, 3, 2, 4, 5, 3, 4, 3, 3, 5, 3,\n",
      "        1, 3, 4, 2, 3, 4, 3, 3], device='cuda:0')\n",
      "tensor([4, 1, 2, 1, 4, 1, 1, 3, 2, 2, 3, 2, 2, 3, 1, 3, 2, 3, 1, 1, 1, 2, 5, 1,\n",
      "        3, 2, 2, 1, 2, 2, 3, 2], device='cuda:0') tensor([4, 3, 3, 3, 2, 2, 3, 4, 4, 2, 4, 2, 4, 4, 2, 4, 2, 4, 3, 3, 5, 2, 3, 3,\n",
      "        4, 3, 2, 3, 2, 3, 3, 3], device='cuda:0')\n",
      "tensor([2, 0, 0, 2, 2, 3, 2, 2, 1, 1, 2, 0, 3, 2, 1, 2, 5, 4, 1, 2, 2, 1, 2, 2,\n",
      "        2, 1, 2, 1, 2, 2, 1, 2], device='cuda:0') tensor([2, 2, 0, 2, 3, 5, 4, 2, 2, 3, 4, 5, 4, 3, 3, 2, 3, 4, 4, 3, 3, 3, 1, 2,\n",
      "        3, 2, 3, 4, 3, 3, 3, 3], device='cuda:0')\n",
      "tensor([3, 3, 2, 1, 2, 2, 2, 2, 2, 2, 2, 1, 2, 3, 1, 1, 1, 2, 1, 2, 3, 2, 2, 1,\n",
      "        2, 2, 2, 0, 2, 2, 2, 1], device='cuda:0') tensor([3, 4, 3, 2, 4, 4, 4, 3, 3, 3, 3, 4, 4, 4, 2, 3, 3, 5, 3, 3, 4, 3, 3, 4,\n",
      "        3, 4, 3, 2, 2, 2, 4, 3], device='cuda:0')\n",
      "tensor([0, 2, 3, 2, 1, 1, 2, 1, 3, 2, 5, 2, 2, 3, 2, 1, 2, 2, 2, 2, 1, 3, 1, 1,\n",
      "        2, 1, 3, 2, 2, 2, 2, 0], device='cuda:0') tensor([3, 4, 1, 3, 2, 2, 2, 2, 3, 3, 3, 3, 4, 3, 2, 3, 2, 3, 2, 3, 3, 5, 2, 1,\n",
      "        3, 4, 3, 3, 2, 2, 3, 4], device='cuda:0')\n",
      "tensor([2, 2, 2, 1, 1, 2, 2, 2, 1, 3, 2, 2, 2, 3, 2, 2, 2, 3, 3, 1, 1, 2, 2, 2,\n",
      "        2, 2, 2, 1, 1, 2, 2, 2], device='cuda:0') tensor([1, 3, 3, 3, 3, 3, 2, 3, 3, 4, 2, 3, 2, 4, 3, 3, 3, 4, 3, 4, 1, 5, 3, 4,\n",
      "        4, 2, 5, 2, 4, 3, 2, 5], device='cuda:0')\n",
      "tensor([2, 2, 2, 3, 1, 1, 2, 2, 2, 2, 2, 1, 5, 2, 2, 2, 2, 2, 2, 1, 1, 2, 1, 2,\n",
      "        2, 5, 2, 1, 2, 2, 2, 3], device='cuda:0') tensor([3, 2, 4, 3, 4, 1, 4, 2, 3, 2, 2, 3, 3, 4, 3, 3, 3, 2, 2, 3, 3, 2, 3, 3,\n",
      "        2, 4, 3, 3, 3, 3, 1, 2], device='cuda:0')\n",
      "tensor([2, 0, 3, 0, 0, 2, 1, 2, 3, 2, 3, 1, 1, 2, 1, 2, 2, 0, 1, 3, 1, 3, 2, 1,\n",
      "        1, 2, 2, 2, 2, 2, 1, 2], device='cuda:0') tensor([3, 2, 3, 3, 2, 1, 3, 2, 3, 2, 2, 3, 1, 2, 3, 2, 3, 2, 2, 3, 4, 2, 2, 5,\n",
      "        3, 2, 4, 2, 3, 3, 3, 2], device='cuda:0')\n",
      "tensor([2, 2, 2, 3, 1, 2, 1, 2, 2, 2, 1, 2, 2, 1, 2, 3, 2, 2, 2, 2, 2, 2, 2, 2,\n",
      "        1, 2, 0, 3, 1, 2, 2, 2], device='cuda:0') tensor([2, 3, 3, 3, 4, 2, 4, 2, 2, 4, 2, 4, 3, 3, 1, 4, 3, 3, 3, 4, 3, 2, 2, 3,\n",
      "        2, 2, 2, 4, 3, 2, 2, 2], device='cuda:0')\n",
      "tensor([2, 2, 1, 0, 3, 3, 1, 3, 2, 2, 2, 1, 2, 2, 3, 3, 2, 2, 2, 2, 1, 3, 1, 1,\n",
      "        1, 5, 2, 1, 1, 2, 2, 3], device='cuda:0') tensor([4, 4, 4, 3, 4, 5, 2, 3, 2, 3, 3, 5, 3, 2, 2, 3, 3, 3, 2, 2, 2, 3, 2, 3,\n",
      "        3, 2, 3, 3, 2, 2, 3, 3], device='cuda:0')\n",
      "tensor([2, 2, 1, 2, 2, 2, 1, 1, 2, 2, 2, 1, 1, 2, 3, 2, 2, 3, 2, 4, 2, 2, 1, 1,\n",
      "        2, 2, 1, 1, 2, 2, 1, 2], device='cuda:0') tensor([5, 2, 2, 2, 3, 3, 3, 4, 2, 2, 2, 3, 3, 3, 3, 3, 2, 3, 2, 4, 5, 3, 2, 2,\n",
      "        2, 2, 4, 2, 3, 2, 3, 3], device='cuda:0')\n",
      "tensor([2, 3, 2, 1, 0, 2, 2, 2, 0, 1, 2, 2, 2, 3, 1, 2, 2, 2, 4, 2, 2, 3, 2, 1,\n",
      "        1, 1, 1, 1, 1, 2, 3, 4], device='cuda:0') tensor([2, 5, 3, 2, 5, 4, 2, 2, 2, 3, 2, 2, 4, 3, 0, 2, 2, 2, 2, 2, 3, 4, 2, 2,\n",
      "        2, 5, 3, 3, 4, 3, 4, 3], device='cuda:0')\n",
      "tensor([5, 3, 2, 1, 2, 1, 2, 2, 2, 2, 2, 2, 2, 2, 2, 2, 2, 2, 2, 2, 2, 2, 2, 2,\n",
      "        2, 2, 3, 4, 2, 2, 2, 2], device='cuda:0') tensor([2, 3, 0, 2, 2, 2, 2, 3, 3, 3, 2, 3, 3, 2, 2, 2, 2, 4, 3, 3, 3, 3, 2, 2,\n",
      "        3, 2, 3, 4, 3, 3, 5, 3], device='cuda:0')\n",
      "tensor([2, 2, 3, 1, 2, 3, 2, 2, 2, 1, 1, 2, 2, 1, 2, 2, 2, 2, 2, 2, 3, 2, 2, 2,\n",
      "        2, 1, 1, 5, 2, 2, 1, 0], device='cuda:0') tensor([3, 2, 4, 4, 3, 3, 3, 3, 3, 3, 4, 3, 3, 4, 3, 2, 1, 2, 3, 3, 3, 2, 2, 2,\n",
      "        4, 3, 3, 5, 2, 4, 3, 2], device='cuda:0')\n",
      "tensor([5, 3, 0, 2, 2, 2, 2, 2, 0, 2, 2, 2, 4, 3, 3, 2, 1, 1, 2, 1, 2, 1, 2, 2,\n",
      "        2, 2, 1, 2, 2, 2, 3, 3], device='cuda:0') tensor([3, 3, 3, 2, 3, 4, 3, 2, 4, 2, 2, 3, 2, 3, 3, 2, 2, 2, 4, 4, 2, 2, 1, 3,\n",
      "        4, 4, 2, 4, 2, 2, 4, 5], device='cuda:0')\n",
      "tensor([2, 1, 2, 4, 2, 2, 3, 2, 2, 2, 5, 2, 3, 2, 5, 2, 3, 2, 0, 2, 1, 1, 1, 2,\n",
      "        2, 2, 2, 3, 4, 3, 2, 2], device='cuda:0') tensor([2, 3, 3, 3, 3, 3, 3, 1, 3, 3, 3, 3, 5, 3, 2, 2, 1, 3, 2, 2, 4, 3, 3, 3,\n",
      "        4, 4, 2, 3, 4, 5, 4, 3], device='cuda:0')\n",
      "tensor([1, 1, 1, 2, 2, 1, 2, 1, 2, 5, 2, 2, 1, 3, 1, 3, 3, 2, 3, 2, 2, 2, 2, 3,\n",
      "        3, 2, 0, 2, 3, 1, 1, 1], device='cuda:0') tensor([2, 3, 4, 4, 2, 1, 3, 2, 3, 1, 3, 3, 2, 3, 3, 4, 3, 3, 5, 1, 1, 3, 3, 4,\n",
      "        4, 3, 3, 3, 5, 4, 2, 5], device='cuda:0')\n",
      "tensor([2, 2, 3, 2, 1, 3, 1, 1, 2, 1, 2, 2, 2, 3, 2, 2, 3, 3, 1, 1],\n",
      "       device='cuda:0') tensor([2, 2, 3, 2, 3, 3, 3, 2, 3, 3, 3, 2, 3, 3, 3, 2, 3, 4, 3, 3],\n",
      "       device='cuda:0')\n",
      "Accuracy of the model: 29.39%\n"
     ]
    }
   ],
   "source": [
    "model.eval() # Set model to eval mode\n",
    "true_preds, num_preds = 0., 0.\n",
    "y_pred_list = []\n",
    "\n",
    "with torch.no_grad(): # Deactivate gradients for the following code\n",
    "    for data_inputs, data_labels in test_data_loader:\n",
    "\n",
    "        # Determine prediction of model on dev set\n",
    "        data_inputs, data_labels = data_inputs.to(device), data_labels.to(device)\n",
    "        y_preds = model(data_inputs.float())\n",
    "        \n",
    "        # Keep records of predictions for the accuracy metric (true_preds=TP+TN, num_preds=TP+TN+FP+FN)\n",
    "        _, y_pred_tags = torch.max(y_preds, dim = 1)\n",
    "        true_preds += (y_pred_tags.float() == data_labels.float()).sum()\n",
    "        print(y_pred_tags, data_labels)\n",
    "        num_preds += data_labels.shape[0]\n",
    "\n",
    "acc = true_preds / num_preds\n",
    "y_pred_list = [a.squeeze().tolist() for a in y_pred_list]\n",
    "print(f\"Accuracy of the model: {100.0*acc:4.2f}%\")"
   ]
  },
  {
   "cell_type": "code",
   "execution_count": null,
   "id": "c874d4ba-035e-4db9-9b90-379059024f6b",
   "metadata": {},
   "outputs": [],
   "source": []
  }
 ],
 "metadata": {
  "kernelspec": {
   "display_name": "Python 3 (ipykernel)",
   "language": "python",
   "name": "python3"
  },
  "language_info": {
   "codemirror_mode": {
    "name": "ipython",
    "version": 3
   },
   "file_extension": ".py",
   "mimetype": "text/x-python",
   "name": "python",
   "nbconvert_exporter": "python",
   "pygments_lexer": "ipython3",
   "version": "3.8.10"
  },
  "toc-autonumbering": false,
  "toc-showcode": false,
  "toc-showmarkdowntxt": false
 },
 "nbformat": 4,
 "nbformat_minor": 5
}
