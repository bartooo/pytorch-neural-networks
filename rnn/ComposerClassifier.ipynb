{
 "cells": [
  {
   "cell_type": "code",
   "execution_count": 69,
   "metadata": {},
   "outputs": [],
   "source": [
    "import torch\n",
    "import torch.nn as nn\n",
    "import numpy as np\n",
    "import matplotlib.pyplot as plt\n",
    "from seaborn import heatmap\n",
    "from sklearn.metrics import confusion_matrix, accuracy_score, precision_score, recall_score, f1_score\n",
    "from torch.utils.data import DataLoader, TensorDataset\n",
    "from torch.nn.utils.rnn import pad_sequence\n",
    "from sklearn.utils import class_weight\n",
    "import seaborn as sns\n",
    "import gc\n",
    "import copy"
   ]
  },
  {
   "cell_type": "code",
   "execution_count": 70,
   "metadata": {
    "pycharm": {
     "name": "#%%\n"
    }
   },
   "outputs": [],
   "source": [
    "torch.cuda.set_device(0)\n",
    "device = torch.device(\"cuda\") if torch.cuda.is_available() else torch.device(\"cpu\")"
   ]
  },
  {
   "cell_type": "code",
   "execution_count": 71,
   "metadata": {
    "pycharm": {
     "name": "#%%\n"
    }
   },
   "outputs": [
    {
     "data": {
      "text/plain": "device(type='cuda')"
     },
     "execution_count": 71,
     "metadata": {},
     "output_type": "execute_result"
    }
   ],
   "source": [
    "device"
   ]
  },
  {
   "cell_type": "code",
   "execution_count": 72,
   "metadata": {
    "pycharm": {
     "name": "#%%\n"
    }
   },
   "outputs": [],
   "source": [
    "np.random.seed(42)\n",
    "if torch.cuda.is_available():\n",
    "    torch.cuda.manual_seed(42)\n",
    "    torch.cuda.manual_seed_all(42)\n",
    "\n",
    "torch.backends.cudnn.deterministic = True"
   ]
  },
  {
   "cell_type": "markdown",
   "source": [
    "# Create dataset"
   ],
   "metadata": {
    "collapsed": false,
    "pycharm": {
     "name": "#%% md\n"
    }
   }
  },
  {
   "cell_type": "code",
   "execution_count": 73,
   "metadata": {
    "pycharm": {
     "name": "#%%\n"
    }
   },
   "outputs": [],
   "source": [
    "trainset = np.load('train.pkl', allow_pickle=True)\n",
    "testset = np.load('test_no_target.pkl', allow_pickle=True)"
   ]
  },
  {
   "cell_type": "code",
   "execution_count": 74,
   "metadata": {
    "pycharm": {
     "name": "#%%\n"
    }
   },
   "outputs": [],
   "source": [
    "X, y = [torch.from_numpy(x[0]) for x in trainset], np.array([x[1] for x in trainset], dtype=np.float64)"
   ]
  },
  {
   "cell_type": "code",
   "execution_count": 75,
   "outputs": [],
   "source": [
    "test_X = [torch.from_numpy(x) for x in testset]"
   ],
   "metadata": {
    "collapsed": false,
    "pycharm": {
     "name": "#%%\n"
    }
   }
  },
  {
   "cell_type": "code",
   "execution_count": 76,
   "metadata": {
    "pycharm": {
     "name": "#%%\n"
    }
   },
   "outputs": [
    {
     "data": {
      "text/plain": "<AxesSubplot:ylabel='count'>"
     },
     "execution_count": 76,
     "metadata": {},
     "output_type": "execute_result"
    },
    {
     "data": {
      "text/plain": "<Figure size 432x288 with 1 Axes>",
      "image/png": "[encoded data removed]"
     },
     "metadata": {
      "needs_background": "light"
     },
     "output_type": "display_data"
    }
   ],
   "source": [
    "sns.countplot(x=y)"
   ]
  },
  {
   "cell_type": "markdown",
   "source": [
    "Dataset is imbalanced."
   ],
   "metadata": {
    "collapsed": false,
    "pycharm": {
     "name": "#%% md\n"
    }
   }
  },
  {
   "cell_type": "markdown",
   "source": [
    "Calculate class weights so that they can be used in loss function."
   ],
   "metadata": {
    "collapsed": false,
    "pycharm": {
     "name": "#%% md\n"
    }
   }
  },
  {
   "cell_type": "code",
   "execution_count": 77,
   "outputs": [],
   "source": [
    "class_weights = class_weight.compute_class_weight('balanced', classes=np.unique(y), y=y)"
   ],
   "metadata": {
    "collapsed": false,
    "pycharm": {
     "name": "#%%\n"
    }
   }
  },
  {
   "cell_type": "markdown",
   "source": [
    "## Add padding"
   ],
   "metadata": {
    "collapsed": false,
    "pycharm": {
     "name": "#%% md\n"
    }
   }
  },
  {
   "cell_type": "code",
   "execution_count": 78,
   "outputs": [],
   "source": [
    "# Add all zeroes sequence to train data of length 8966 - because that is the maximum sequence length in test set (then will be removed)\n",
    "X.append(torch.zeros(size=(8966,), dtype=torch.float64))"
   ],
   "metadata": {
    "collapsed": false,
    "pycharm": {
     "name": "#%%\n"
    }
   }
  },
  {
   "cell_type": "code",
   "execution_count": 79,
   "metadata": {
    "pycharm": {
     "name": "#%%\n"
    }
   },
   "outputs": [],
   "source": [
    "x_padded = pad_sequence(X, batch_first=True, padding_value=0)[:-1] # Add padding to sequences\n",
    "test_x_padded = pad_sequence(test_X, batch_first=True, padding_value=0)"
   ]
  },
  {
   "cell_type": "code",
   "execution_count": 80,
   "metadata": {
    "pycharm": {
     "name": "#%%\n"
    }
   },
   "outputs": [],
   "source": [
    "x_padded = x_padded.numpy()\n",
    "test_x_padded = test_x_padded.numpy()"
   ]
  },
  {
   "cell_type": "code",
   "execution_count": 81,
   "metadata": {
    "pycharm": {
     "name": "#%%\n"
    }
   },
   "outputs": [
    {
     "data": {
      "text/plain": "(2939, 8966)"
     },
     "execution_count": 81,
     "metadata": {},
     "output_type": "execute_result"
    }
   ],
   "source": [
    "x_padded.shape"
   ]
  },
  {
   "cell_type": "code",
   "execution_count": 82,
   "metadata": {
    "pycharm": {
     "name": "#%%\n"
    }
   },
   "outputs": [],
   "source": [
    "train_indices = np.random.rand(len(x_padded))>0.2"
   ]
  },
  {
   "cell_type": "code",
   "execution_count": 83,
   "metadata": {
    "pycharm": {
     "name": "#%%\n"
    }
   },
   "outputs": [],
   "source": [
    "full_train_X = torch.from_numpy(x_padded).float()\n",
    "full_train_y = torch.from_numpy(y).long()\n",
    "\n",
    "train_X = torch.from_numpy(x_padded[train_indices]).float()\n",
    "train_y = torch.from_numpy(y[train_indices]).long()\n",
    "\n",
    "val_X = torch.from_numpy(x_padded[~train_indices]).float()\n",
    "val_y = torch.from_numpy(y[~train_indices]).long()"
   ]
  },
  {
   "cell_type": "code",
   "execution_count": 84,
   "outputs": [],
   "source": [
    "test_X = torch.from_numpy(test_x_padded).float()"
   ],
   "metadata": {
    "collapsed": false,
    "pycharm": {
     "name": "#%%\n"
    }
   }
  },
  {
   "cell_type": "code",
   "execution_count": 85,
   "outputs": [
    {
     "data": {
      "text/plain": "(torch.Size([2939, 8966]), torch.Size([2328, 8966]), torch.Size([611, 8966]))"
     },
     "execution_count": 85,
     "metadata": {},
     "output_type": "execute_result"
    }
   ],
   "source": [
    "full_train_X.shape, train_X.shape, val_X.shape"
   ],
   "metadata": {
    "collapsed": false,
    "pycharm": {
     "name": "#%%\n"
    }
   }
  },
  {
   "cell_type": "code",
   "execution_count": 86,
   "metadata": {
    "pycharm": {
     "name": "#%%\n"
    }
   },
   "outputs": [],
   "source": [
    "full_train_dataset = TensorDataset(full_train_X, full_train_y)\n",
    "train_dataset = TensorDataset(train_X, train_y)\n",
    "val_dataset = TensorDataset(val_X, val_y)"
   ]
  },
  {
   "cell_type": "code",
   "execution_count": 87,
   "metadata": {
    "pycharm": {
     "name": "#%%\n"
    }
   },
   "outputs": [],
   "source": [
    "full_train_loader = DataLoader(full_train_dataset, batch_size=32, shuffle=True)\n",
    "train_loader = DataLoader(train_dataset, batch_size=32, shuffle=True)\n",
    "val_loader = DataLoader(val_dataset, batch_size=32, shuffle=True)"
   ]
  },
  {
   "cell_type": "markdown",
   "source": [
    "# Train the model"
   ],
   "metadata": {
    "collapsed": false,
    "pycharm": {
     "name": "#%% md\n"
    }
   }
  },
  {
   "cell_type": "markdown",
   "source": [
    "### Help functions"
   ],
   "metadata": {
    "collapsed": false,
    "pycharm": {
     "name": "#%% md\n"
    }
   }
  },
  {
   "cell_type": "code",
   "execution_count": 88,
   "outputs": [],
   "source": [
    "def plot_training(iters, losses, train_acc, val_acc=None):\n",
    "    plt.figure(figsize=(10,4))\n",
    "    plt.subplot(1,2,1)\n",
    "    plt.title(\"Training Curve\")\n",
    "    plt.plot(iters, losses, label=\"Train\")\n",
    "    plt.xlabel(\"Iterations\")\n",
    "    plt.ylabel(\"Loss\")\n",
    "\n",
    "    plt.subplot(1,2,2)\n",
    "    plt.title(\"Training Curve\")\n",
    "    plt.plot(iters, train_acc, label=\"Train\")\n",
    "    if val_acc:\n",
    "        plt.plot(iters, val_acc, label=\"Validation\")\n",
    "    plt.xlabel(\"Iterations\")\n",
    "    plt.ylabel(\"Training Accuracy\")\n",
    "    plt.legend(loc='best')\n",
    "\n",
    "    plt.show()"
   ],
   "metadata": {
    "collapsed": false,
    "pycharm": {
     "name": "#%%\n"
    }
   }
  },
  {
   "cell_type": "code",
   "execution_count": 89,
   "outputs": [],
   "source": [
    "def get_results(model, data):\n",
    "    model.eval()\n",
    "    with torch.no_grad():\n",
    "        hidden, state = model.init_hidden(data.shape[0])\n",
    "        hidden, state = hidden.to(device), state.to(device)\n",
    "        outputs, _ = model(data.to(device).unsqueeze(2), (hidden, state))\n",
    "        y_pred = torch.argmax(outputs, 1).cpu().numpy()\n",
    "\n",
    "    return outputs, y_pred"
   ],
   "metadata": {
    "collapsed": false,
    "pycharm": {
     "name": "#%%\n"
    }
   }
  },
  {
   "cell_type": "code",
   "execution_count": 90,
   "outputs": [],
   "source": [
    "def get_accuracy(model, data, targets):\n",
    "    model.eval()\n",
    "    with torch.no_grad():\n",
    "        hidden, state = model.init_hidden(data.shape[0])\n",
    "        hidden, state = hidden.to(device), state.to(device)\n",
    "        predictions, _ = model(data.to(device).unsqueeze(2), (hidden, state))\n",
    "\n",
    "    return (torch.argmax(predictions, 1).cpu() == targets).sum().item() / data.shape[0]"
   ],
   "metadata": {
    "collapsed": false,
    "pycharm": {
     "name": "#%%\n"
    }
   }
  },
  {
   "cell_type": "code",
   "execution_count": 91,
   "outputs": [],
   "source": [
    "def plot_cms(y_true, y_pred, dataset_type):\n",
    "    cm = confusion_matrix(y_true, y_pred)\n",
    "    heatmap(cm, annot=True)\n",
    "    plt.title(f'{dataset_type} confusion matrix')\n",
    "    plt.xlabel('prediction')\n",
    "    plt.ylabel('true label')\n",
    "    plt.show()"
   ],
   "metadata": {
    "collapsed": false,
    "pycharm": {
     "name": "#%%\n"
    }
   }
  },
  {
   "cell_type": "code",
   "execution_count": 92,
   "outputs": [],
   "source": [
    "def show_metrics(y_true, y_pred, dataset_type):\n",
    "    plot_cms(y_true, y_pred, dataset_type)\n",
    "\n",
    "    print(f\"{dataset_type} set\")\n",
    "    print(f\"Accuracy: {accuracy_score(y_true, y_pred):.3}\")\n",
    "    print(f\"Precision: {precision_score(y_true, y_pred, average='weighted', zero_division=0):.3}\")\n",
    "    print(f\"Recall: {recall_score(y_true, y_pred, average='weighted', zero_division=0):.3}\")\n",
    "    print(f\"F1 score: {f1_score(y_true, y_pred, average='weighted', zero_division=0):.3}\")"
   ],
   "metadata": {
    "collapsed": false,
    "pycharm": {
     "name": "#%%\n"
    }
   }
  },
  {
   "cell_type": "markdown",
   "source": [
    "# Create the model"
   ],
   "metadata": {
    "collapsed": false
   }
  },
  {
   "cell_type": "code",
   "execution_count": 93,
   "outputs": [],
   "source": [
    "class LSTMClassifier(nn.Module):\n",
    "\n",
    "    def __init__(self, input_size, hidden_size, num_layers, out_size, sequence_len, dropout, bidirectional = False):\n",
    "        super().__init__()\n",
    "        self.num_layers = num_layers\n",
    "        self.hidden_size = hidden_size\n",
    "        if bidirectional:\n",
    "            self.bidirectional = 2\n",
    "        else:\n",
    "            self.bidirectional = 1\n",
    "        self.lstm = nn.LSTM(input_size=input_size, hidden_size=hidden_size, num_layers=num_layers, bidirectional=bidirectional, dropout=dropout)\n",
    "        self.fc1 = nn.Linear(hidden_size*sequence_len*self.bidirectional, out_size)\n",
    "\n",
    "    def init_hidden(self, batch_size):\n",
    "        hidden = torch.zeros(self.num_layers*self.bidirectional, batch_size, self.hidden_size)\n",
    "        state = torch.zeros(self.num_layers*self.bidirectional, batch_size, self.hidden_size)\n",
    "        return hidden, state\n",
    "\n",
    "    def forward(self, x, hidden):\n",
    "        x = torch.transpose(x, 0, 1)\n",
    "        all_outputs, hidden = self.lstm(x, hidden)\n",
    "        all_outputs = torch.transpose(all_outputs, 0, 1)\n",
    "        out = torch.flatten(all_outputs, 1)\n",
    "        x = self.fc1(out)\n",
    "        return x, hidden"
   ],
   "metadata": {
    "collapsed": false,
    "pycharm": {
     "name": "#%%\n"
    }
   }
  },
  {
   "cell_type": "markdown",
   "source": [
    "# Training and tuning hyperparameters"
   ],
   "metadata": {
    "collapsed": false,
    "pycharm": {
     "name": "#%% md\n"
    }
   }
  },
  {
   "cell_type": "code",
   "execution_count": 94,
   "outputs": [],
   "source": [
    "INPUT_SIZE = 1\n",
    "HIDDEN_SIZE = 7\n",
    "NUM_LAYERS = 2\n",
    "OUTPUT_SIZE = 5\n",
    "SEQUENCE_LEN = x_padded.shape[1]\n",
    "EPOCHS = 50\n",
    "LR = 0.0005\n",
    "DROPOUT_LSTM = 0.7"
   ],
   "metadata": {
    "collapsed": false,
    "pycharm": {
     "name": "#%%\n"
    }
   }
  },
  {
   "cell_type": "code",
   "execution_count": 95,
   "outputs": [
    {
     "data": {
      "text/plain": "LSTMClassifier(\n  (lstm): LSTM(1, 7, num_layers=2, dropout=0.7)\n  (fc1): Linear(in_features=62762, out_features=5, bias=True)\n)"
     },
     "execution_count": 95,
     "metadata": {},
     "output_type": "execute_result"
    }
   ],
   "source": [
    "model = LSTMClassifier(INPUT_SIZE, HIDDEN_SIZE, NUM_LAYERS, OUTPUT_SIZE, SEQUENCE_LEN, DROPOUT_LSTM).to(device)\n",
    "model"
   ],
   "metadata": {
    "collapsed": false,
    "pycharm": {
     "name": "#%%\n"
    }
   }
  },
  {
   "cell_type": "code",
   "execution_count": 96,
   "metadata": {
    "pycharm": {
     "name": "#%%\n"
    }
   },
   "outputs": [],
   "source": [
    "optimizer = torch.optim.Adam(model.parameters(), lr=LR)\n",
    "criterion = nn.CrossEntropyLoss()\n",
    "scheduler = torch.optim.lr_scheduler.ExponentialLR(optimizer=optimizer, gamma=0.99)"
   ]
  },
  {
   "cell_type": "code",
   "execution_count": 97,
   "metadata": {
    "pycharm": {
     "name": "#%%\n"
    }
   },
   "outputs": [
    {
     "name": "stdout",
     "output_type": "stream",
     "text": [
      "[1/50] loss: 1.439 train_acc: 59.92% val_acc: 59.74%\n",
      "[2/50] loss: 1.206 train_acc: 57.60% val_acc: 56.46%\n",
      "[3/50] loss: 1.222 train_acc: 58.29% val_acc: 58.76%\n",
      "[4/50] loss: 1.107 train_acc: 63.02% val_acc: 62.52%\n",
      "[5/50] loss: 1.072 train_acc: 62.63% val_acc: 63.01%\n",
      "[6/50] loss: 1.054 train_acc: 63.92% val_acc: 63.01%\n",
      "[7/50] loss: 1.021 train_acc: 65.46% val_acc: 64.81%\n",
      "[8/50] loss: 1.010 train_acc: 63.83% val_acc: 64.32%\n",
      "[9/50] loss: 0.985 train_acc: 66.11% val_acc: 65.79%\n",
      "[10/50] loss: 0.952 train_acc: 65.64% val_acc: 64.98%\n",
      "[11/50] loss: 0.952 train_acc: 67.70% val_acc: 67.27%\n",
      "[12/50] loss: 0.930 train_acc: 67.91% val_acc: 66.28%\n",
      "[13/50] loss: 0.896 train_acc: 68.17% val_acc: 66.45%\n",
      "[14/50] loss: 0.880 train_acc: 67.96% val_acc: 65.96%\n",
      "[15/50] loss: 0.876 train_acc: 69.20% val_acc: 67.27%\n",
      "[16/50] loss: 0.849 train_acc: 70.40% val_acc: 68.58%\n",
      "[17/50] loss: 0.847 train_acc: 70.83% val_acc: 70.05%\n",
      "[18/50] loss: 0.823 train_acc: 71.43% val_acc: 69.07%\n",
      "[19/50] loss: 0.806 train_acc: 71.78% val_acc: 69.72%\n",
      "[20/50] loss: 0.816 train_acc: 72.59% val_acc: 69.23%\n",
      "[21/50] loss: 0.789 train_acc: 72.47% val_acc: 70.54%\n",
      "[22/50] loss: 0.778 train_acc: 73.71% val_acc: 67.59%\n",
      "[23/50] loss: 0.768 train_acc: 73.71% val_acc: 69.56%\n",
      "[24/50] loss: 0.760 train_acc: 75.56% val_acc: 70.54%\n",
      "[25/50] loss: 0.748 train_acc: 74.48% val_acc: 70.54%\n",
      "[26/50] loss: 0.752 train_acc: 72.81% val_acc: 70.87%\n",
      "[27/50] loss: 0.760 train_acc: 76.20% val_acc: 68.25%\n",
      "[28/50] loss: 0.747 train_acc: 75.73% val_acc: 70.21%\n",
      "[29/50] loss: 0.737 train_acc: 77.19% val_acc: 70.38%\n",
      "[30/50] loss: 0.726 train_acc: 76.76% val_acc: 71.03%\n",
      "[31/50] loss: 0.721 train_acc: 77.15% val_acc: 69.72%\n",
      "[32/50] loss: 0.705 train_acc: 77.88% val_acc: 70.87%\n",
      "[33/50] loss: 0.716 train_acc: 77.23% val_acc: 70.05%\n",
      "[34/50] loss: 0.705 train_acc: 75.99% val_acc: 69.56%\n",
      "[35/50] loss: 0.702 train_acc: 77.71% val_acc: 71.03%\n",
      "[36/50] loss: 0.693 train_acc: 78.39% val_acc: 70.05%\n",
      "[37/50] loss: 0.680 train_acc: 79.12% val_acc: 70.54%\n",
      "[38/50] loss: 0.683 train_acc: 78.78% val_acc: 69.89%\n",
      "[39/50] loss: 0.683 train_acc: 76.25% val_acc: 70.05%\n",
      "[40/50] loss: 0.670 train_acc: 79.81% val_acc: 70.70%\n",
      "[41/50] loss: 0.657 train_acc: 79.04% val_acc: 70.21%\n",
      "[42/50] loss: 0.680 train_acc: 77.84% val_acc: 71.19%\n",
      "[43/50] loss: 0.650 train_acc: 80.58% val_acc: 69.07%\n",
      "[44/50] loss: 0.648 train_acc: 80.03% val_acc: 68.90%\n",
      "[45/50] loss: 0.646 train_acc: 79.98% val_acc: 70.38%\n",
      "[46/50] loss: 0.646 train_acc: 77.53% val_acc: 69.89%\n",
      "[47/50] loss: 0.654 train_acc: 80.58% val_acc: 70.38%\n",
      "[48/50] loss: 0.639 train_acc: 80.33% val_acc: 69.89%\n",
      "[49/50] loss: 0.630 train_acc: 79.04% val_acc: 70.05%\n",
      "[50/50] loss: 0.627 train_acc: 79.04% val_acc: 71.52%\n",
      "Training finished\n",
      "Best training accuracy: 0.81\n",
      "Best validation accuracy: 0.72\n"
     ]
    }
   ],
   "source": [
    "iters = []\n",
    "losses = []\n",
    "train_acc_ls = []\n",
    "val_acc_ls = []\n",
    "best_model_wts = copy.deepcopy(model.state_dict())\n",
    "best_val_acc = 0.0\n",
    "\n",
    "for epoch in range(EPOCHS):\n",
    "    epoch_losses = []\n",
    "    for x, targets in train_loader:\n",
    "        model.train()\n",
    "        x = x.to(device).unsqueeze(2)\n",
    "        targets = targets.to(device)\n",
    "        hidden, state = model.init_hidden(x.size(0))\n",
    "        hidden, state = hidden.to(device), state.to(device)\n",
    "        predictions, _ = model(x, (hidden, state))\n",
    "        predictions = predictions.squeeze(1)\n",
    "\n",
    "        optimizer.zero_grad()\n",
    "        loss = criterion(predictions, targets)\n",
    "        epoch_losses.append(loss.item())\n",
    "        loss.backward()\n",
    "        optimizer.step()\n",
    "\n",
    "        # clear variables\n",
    "        del x, targets, predictions\n",
    "        gc.collect()\n",
    "        torch.cuda.empty_cache()\n",
    "\n",
    "    model.eval()\n",
    "\n",
    "    loss_mean = np.array(epoch_losses).mean()\n",
    "    iters.append(epoch)\n",
    "    losses.append(loss_mean)\n",
    "    train_acc = get_accuracy(model, train_X, train_y)\n",
    "    val_acc = get_accuracy(model, val_X, val_y)\n",
    "    train_acc_ls.append(train_acc)\n",
    "    val_acc_ls.append(val_acc)\n",
    "    scheduler.step()\n",
    "\n",
    "    if val_acc > best_val_acc:\n",
    "        best_val_acc = val_acc\n",
    "        best_model_wts = copy.deepcopy(model.state_dict())\n",
    "\n",
    "    print(f\"[{epoch+1}/{EPOCHS}] loss: {loss_mean:.3f} train_acc: {train_acc*100:.2f}% val_acc: {val_acc*100:.2f}%\")\n",
    "\n",
    "print('Training finished')\n",
    "model.load_state_dict(best_model_wts)\n",
    "print(\"Best training accuracy: {:.2f}\".format(max(train_acc_ls)))\n",
    "print(\"Best validation accuracy: {:.2f}\".format(max(val_acc_ls)))"
   ]
  },
  {
   "cell_type": "code",
   "execution_count": 98,
   "outputs": [
    {
     "data": {
      "text/plain": "<Figure size 720x288 with 2 Axes>",
      "image/png": "[encoded data removed]"
     },
     "metadata": {
      "needs_background": "light"
     },
     "output_type": "display_data"
    }
   ],
   "source": [
    "plot_training(iters, losses, train_acc_ls, val_acc_ls)"
   ],
   "metadata": {
    "collapsed": false,
    "pycharm": {
     "name": "#%%\n"
    }
   }
  },
  {
   "cell_type": "markdown",
   "source": [
    "# Evaluate the best model"
   ],
   "metadata": {
    "collapsed": false,
    "pycharm": {
     "name": "#%% md\n"
    }
   }
  },
  {
   "cell_type": "code",
   "execution_count": 99,
   "outputs": [],
   "source": [
    "outputs_train, y_pred_train = get_results(model, train_X)\n",
    "outputs_val, y_pred_val = get_results(model, val_X)"
   ],
   "metadata": {
    "collapsed": false,
    "pycharm": {
     "name": "#%%\n"
    }
   }
  },
  {
   "cell_type": "code",
   "execution_count": 100,
   "outputs": [
    {
     "data": {
      "text/plain": "<Figure size 432x288 with 2 Axes>",
      "image/png": "[encoded data removed]"
     },
     "metadata": {
      "needs_background": "light"
     },
     "output_type": "display_data"
    },
    {
     "name": "stdout",
     "output_type": "stream",
     "text": [
      "train set\n",
      "Accuracy: 0.79\n",
      "Precision: 0.807\n",
      "Recall: 0.79\n",
      "F1 score: 0.779\n"
     ]
    },
    {
     "data": {
      "text/plain": "<Figure size 432x288 with 2 Axes>",
      "image/png": "[encoded data removed]"
     },
     "metadata": {
      "needs_background": "light"
     },
     "output_type": "display_data"
    },
    {
     "name": "stdout",
     "output_type": "stream",
     "text": [
      "val set\n",
      "Accuracy: 0.715\n",
      "Precision: 0.694\n",
      "Recall: 0.715\n",
      "F1 score: 0.686\n"
     ]
    },
    {
     "data": {
      "text/plain": "<Figure size 432x288 with 2 Axes>",
      "image/png": "[encoded data removed]"
     },
     "metadata": {
      "needs_background": "light"
     },
     "output_type": "display_data"
    },
    {
     "name": "stdout",
     "output_type": "stream",
     "text": [
      "naive set\n",
      "Accuracy: 0.55\n",
      "Precision: 0.303\n",
      "Recall: 0.55\n",
      "F1 score: 0.391\n"
     ]
    },
    {
     "data": {
      "text/plain": "(None, None, None)"
     },
     "execution_count": 100,
     "metadata": {},
     "output_type": "execute_result"
    }
   ],
   "source": [
    "show_metrics(train_y, y_pred_train, \"train\"), show_metrics(val_y, y_pred_val, \"val\"), show_metrics(train_y, np.zeros_like(train_y), \"naive\")"
   ],
   "metadata": {
    "collapsed": false,
    "pycharm": {
     "name": "#%%\n"
    }
   }
  },
  {
   "cell_type": "code",
   "execution_count": 101,
   "outputs": [
    {
     "name": "stderr",
     "output_type": "stream",
     "text": [
      "c:\\users\\bartosz\\dataspellprojects\\pytorch-neural-networks\\venv\\lib\\site-packages\\seaborn\\_decorators.py:36: FutureWarning: Pass the following variable as a keyword arg: x. From version 0.12, the only valid positional argument will be `data`, and passing other arguments without an explicit keyword will result in an error or misinterpretation.\n",
      "  warnings.warn(\n"
     ]
    },
    {
     "data": {
      "text/plain": "<AxesSubplot:ylabel='count'>"
     },
     "execution_count": 101,
     "metadata": {},
     "output_type": "execute_result"
    },
    {
     "data": {
      "text/plain": "<Figure size 432x288 with 1 Axes>",
      "image/png": "[encoded data removed]"
     },
     "metadata": {
      "needs_background": "light"
     },
     "output_type": "display_data"
    }
   ],
   "source": [
    "sns.countplot(y_pred_train)"
   ],
   "metadata": {
    "collapsed": false,
    "pycharm": {
     "name": "#%%\n"
    }
   }
  },
  {
   "cell_type": "code",
   "execution_count": 102,
   "outputs": [
    {
     "name": "stderr",
     "output_type": "stream",
     "text": [
      "c:\\users\\bartosz\\dataspellprojects\\pytorch-neural-networks\\venv\\lib\\site-packages\\seaborn\\_decorators.py:36: FutureWarning: Pass the following variable as a keyword arg: x. From version 0.12, the only valid positional argument will be `data`, and passing other arguments without an explicit keyword will result in an error or misinterpretation.\n",
      "  warnings.warn(\n"
     ]
    },
    {
     "data": {
      "text/plain": "<AxesSubplot:ylabel='count'>"
     },
     "execution_count": 102,
     "metadata": {},
     "output_type": "execute_result"
    },
    {
     "data": {
      "text/plain": "<Figure size 432x288 with 1 Axes>",
      "image/png": "[encoded data removed]"
     },
     "metadata": {
      "needs_background": "light"
     },
     "output_type": "display_data"
    }
   ],
   "source": [
    "sns.countplot(y_pred_val)"
   ],
   "metadata": {
    "collapsed": false,
    "pycharm": {
     "name": "#%%\n"
    }
   }
  },
  {
   "cell_type": "code",
   "execution_count": 103,
   "outputs": [],
   "source": [
    "outputs_full_train, y_pred_full_train = get_results(model, full_train_X)"
   ],
   "metadata": {
    "collapsed": false,
    "pycharm": {
     "name": "#%%\n"
    }
   }
  },
  {
   "cell_type": "code",
   "execution_count": 104,
   "outputs": [
    {
     "data": {
      "text/plain": "<Figure size 432x288 with 2 Axes>",
      "image/png": "[encoded data removed]"
     },
     "metadata": {
      "needs_background": "light"
     },
     "output_type": "display_data"
    },
    {
     "name": "stdout",
     "output_type": "stream",
     "text": [
      "full_train set\n",
      "Accuracy: 0.775\n",
      "Precision: 0.787\n",
      "Recall: 0.775\n",
      "F1 score: 0.76\n"
     ]
    }
   ],
   "source": [
    "show_metrics(full_train_y, y_pred_full_train, \"full_train\")"
   ],
   "metadata": {
    "collapsed": false,
    "pycharm": {
     "name": "#%%\n"
    }
   }
  },
  {
   "cell_type": "markdown",
   "metadata": {
    "pycharm": {
     "name": "#%% md\n"
    }
   },
   "source": [
    "# Save final predictions"
   ]
  },
  {
   "cell_type": "code",
   "execution_count": 105,
   "outputs": [],
   "source": [
    "_, final_predictions = get_results(model, test_X)"
   ],
   "metadata": {
    "collapsed": false,
    "pycharm": {
     "name": "#%%\n"
    }
   }
  },
  {
   "cell_type": "code",
   "execution_count": 106,
   "outputs": [
    {
     "name": "stderr",
     "output_type": "stream",
     "text": [
      "c:\\users\\bartosz\\dataspellprojects\\pytorch-neural-networks\\venv\\lib\\site-packages\\seaborn\\_decorators.py:36: FutureWarning: Pass the following variable as a keyword arg: x. From version 0.12, the only valid positional argument will be `data`, and passing other arguments without an explicit keyword will result in an error or misinterpretation.\n",
      "  warnings.warn(\n"
     ]
    },
    {
     "data": {
      "text/plain": "<AxesSubplot:ylabel='count'>"
     },
     "execution_count": 106,
     "metadata": {},
     "output_type": "execute_result"
    },
    {
     "data": {
      "text/plain": "<Figure size 432x288 with 1 Axes>",
      "image/png": "[encoded data removed]"
     },
     "metadata": {
      "needs_background": "light"
     },
     "output_type": "display_data"
    }
   ],
   "source": [
    "sns.countplot(final_predictions)"
   ],
   "metadata": {
    "collapsed": false,
    "pycharm": {
     "name": "#%%\n"
    }
   }
  },
  {
   "cell_type": "code",
   "execution_count": 107,
   "outputs": [],
   "source": [
    "with open('final_predictions.csv', 'w') as fh:\n",
    "    for i in final_predictions:\n",
    "        fh.write(f'{i.item()}\\n')"
   ],
   "metadata": {
    "collapsed": false,
    "pycharm": {
     "name": "#%%\n"
    }
   }
  },
  {
   "cell_type": "code",
   "execution_count": 107,
   "outputs": [],
   "source": [],
   "metadata": {
    "collapsed": false,
    "pycharm": {
     "name": "#%%\n"
    }
   }
  }
 ],
 "metadata": {
  "kernelspec": {
   "display_name": "Python 3 (ipykernel)",
   "language": "python",
   "name": "python3"
  },
  "language_info": {
   "codemirror_mode": {
    "name": "ipython",
    "version": 3
   },
   "file_extension": ".py",
   "mimetype": "text/x-python",
   "name": "python",
   "nbconvert_exporter": "python",
   "pygments_lexer": "ipython3",
   "version": "3.9.6"
  }
 },
 "nbformat": 4,
 "nbformat_minor": 1
}