{
  "nbformat": 4,
  "nbformat_minor": 0,
  "metadata": {
    "colab": {
      "name": "Linear_regression.ipynb",
      "provenance": [],
      "collapsed_sections": []
    },
    "kernelspec": {
      "name": "python3",
      "display_name": "Python 3"
    },
    "language_info": {
      "name": "python"
    }
  },
  "cells": [
    {
      "cell_type": "markdown",
      "metadata": {
        "id": "-EHg7qdMILlj"
      },
      "source": [
        "At the market to products' price one needs to pay also additional price of plastic bag."
      ]
    },
    {
      "cell_type": "code",
      "metadata": {
        "id": "iwYH1z2FJBIW"
      },
      "source": [
        "import torch\n",
        "import numpy as np"
      ],
      "execution_count": 1,
      "outputs": []
    },
    {
      "cell_type": "code",
      "metadata": {
        "id": "QcUWLAtBI5jR"
      },
      "source": [
        "potatoes_kg_ordered = [1,3,7,3,10,6,8,4,3,1,2,0]\n",
        "tomatoes_kg_ordered = [5,2,3,1,2,3,6,7,3,2,3,1]\n",
        "prices = [22.37 , 14.45, 26.6, 10.44, 28.49, 24.52, 40.38, 36.51, 18.50, 10.46, 16.51, 4.58]"
      ],
      "execution_count": 2,
      "outputs": []
    },
    {
      "cell_type": "code",
      "metadata": {
        "colab": {
          "base_uri": "https://localhost:8080/"
        },
        "id": "xYN022x2I7pF",
        "outputId": "44a79ae9-a796-401b-d7b6-54b12df0cf51"
      },
      "source": [
        "X = torch.tensor([potatoes_kg_ordered, tomatoes_kg_ordered, torch.ones_like(torch.tensor(potatoes_kg_ordered))])\n",
        "X"
      ],
      "execution_count": 3,
      "outputs": [
        {
          "output_type": "execute_result",
          "data": {
            "text/plain": [
              "tensor([[ 1,  3,  7,  3, 10,  6,  8,  4,  3,  1,  2,  0],\n",
              "        [ 5,  2,  3,  1,  2,  3,  6,  7,  3,  2,  3,  1],\n",
              "        [ 1,  1,  1,  1,  1,  1,  1,  1,  1,  1,  1,  1]])"
            ]
          },
          "metadata": {},
          "execution_count": 3
        }
      ]
    },
    {
      "cell_type": "code",
      "metadata": {
        "colab": {
          "base_uri": "https://localhost:8080/"
        },
        "id": "Nr3lMaUII8sR",
        "outputId": "22b4ac87-55ec-40a2-aaf9-aaecb665afa8"
      },
      "source": [
        "Y = torch.tensor(prices)\n",
        "Y"
      ],
      "execution_count": 4,
      "outputs": [
        {
          "output_type": "execute_result",
          "data": {
            "text/plain": [
              "tensor([22.3700, 14.4500, 26.6000, 10.4400, 28.4900, 24.5200, 40.3800, 36.5100,\n",
              "        18.5000, 10.4600, 16.5100,  4.5800])"
            ]
          },
          "metadata": {},
          "execution_count": 4
        }
      ]
    },
    {
      "cell_type": "code",
      "metadata": {
        "colab": {
          "base_uri": "https://localhost:8080/"
        },
        "id": "0JBTTJxJJBpJ",
        "outputId": "8e2b0be7-8de6-4f21-9c01-2e46949eb4c7"
      },
      "source": [
        "X = X.T.float()\n",
        "X"
      ],
      "execution_count": 5,
      "outputs": [
        {
          "output_type": "execute_result",
          "data": {
            "text/plain": [
              "tensor([[ 1.,  5.,  1.],\n",
              "        [ 3.,  2.,  1.],\n",
              "        [ 7.,  3.,  1.],\n",
              "        [ 3.,  1.,  1.],\n",
              "        [10.,  2.,  1.],\n",
              "        [ 6.,  3.,  1.],\n",
              "        [ 8.,  6.,  1.],\n",
              "        [ 4.,  7.,  1.],\n",
              "        [ 3.,  3.,  1.],\n",
              "        [ 1.,  2.,  1.],\n",
              "        [ 2.,  3.,  1.],\n",
              "        [ 0.,  1.,  1.]])"
            ]
          },
          "metadata": {},
          "execution_count": 5
        }
      ]
    },
    {
      "cell_type": "code",
      "metadata": {
        "colab": {
          "base_uri": "https://localhost:8080/"
        },
        "id": "-VyG8DRXJFUS",
        "outputId": "ffebaed7-919d-459e-a280-df10c9c5cbb3"
      },
      "source": [
        "Y = Y.T\n",
        "Y"
      ],
      "execution_count": 6,
      "outputs": [
        {
          "output_type": "execute_result",
          "data": {
            "text/plain": [
              "tensor([22.3700, 14.4500, 26.6000, 10.4400, 28.4900, 24.5200, 40.3800, 36.5100,\n",
              "        18.5000, 10.4600, 16.5100,  4.5800])"
            ]
          },
          "metadata": {},
          "execution_count": 6
        }
      ]
    },
    {
      "cell_type": "markdown",
      "metadata": {
        "id": "f6_pczvoJGNf"
      },
      "source": [
        "### Method without gradient computing."
      ]
    },
    {
      "cell_type": "markdown",
      "metadata": {
        "id": "zsX_1udjJXiD"
      },
      "source": [
        "$\\hat{\\theta} = (X^TX)^{-1} X y$"
      ]
    },
    {
      "cell_type": "code",
      "metadata": {
        "id": "lgbXDHN4JMdo"
      },
      "source": [
        "best_theta = torch.inverse(X.T@X)@X.T@Y"
      ],
      "execution_count": 7,
      "outputs": []
    },
    {
      "cell_type": "code",
      "metadata": {
        "colab": {
          "base_uri": "https://localhost:8080/"
        },
        "id": "IC_9SOUrJN1w",
        "outputId": "0da6e233-d354-4501-ba97-6ef0c091e9d7"
      },
      "source": [
        "best_theta"
      ],
      "execution_count": 8,
      "outputs": [
        {
          "output_type": "execute_result",
          "data": {
            "text/plain": [
              "tensor([2.0025, 3.9868, 0.5160])"
            ]
          },
          "metadata": {},
          "execution_count": 8
        }
      ]
    },
    {
      "cell_type": "markdown",
      "metadata": {
        "id": "jNpWYrwHJOys"
      },
      "source": [
        "### Metod with gradient computing"
      ]
    },
    {
      "cell_type": "code",
      "metadata": {
        "colab": {
          "base_uri": "https://localhost:8080/"
        },
        "id": "Y1kwfWi4KqFq",
        "outputId": "5a45caf3-c7b7-4e56-ce1a-c47c332ee778"
      },
      "source": [
        "params = torch.rand(3, requires_grad=True)\n",
        "params"
      ],
      "execution_count": 9,
      "outputs": [
        {
          "output_type": "execute_result",
          "data": {
            "text/plain": [
              "tensor([0.3311, 0.9338, 0.0013], requires_grad=True)"
            ]
          },
          "metadata": {},
          "execution_count": 9
        }
      ]
    },
    {
      "cell_type": "code",
      "metadata": {
        "id": "ZJBI5Lv-KrmK"
      },
      "source": [
        "lr = 0.01"
      ],
      "execution_count": 10,
      "outputs": []
    },
    {
      "cell_type": "code",
      "metadata": {
        "colab": {
          "base_uri": "https://localhost:8080/"
        },
        "id": "mHR3HGyOKsfh",
        "outputId": "0e030df0-7a92-4167-bffa-8f5d5dd3feb4"
      },
      "source": [
        "for epoch in range(300):\n",
        "  y_pred = X@params\n",
        "  loss = torch.square(y_pred - Y).mean()\n",
        "  loss.backward()\n",
        "  with torch.no_grad():\n",
        "    params.copy_(params - lr * params.grad)\n",
        "\n",
        "  print(f\"Param values: {params[0]:.5}, {params[1]:.5}, {params[2]:.5}\", f\"Gradients: {params.grad[0]:.4}, {params.grad[1]:.4},  {params.grad[2]:.4} \")\n",
        "  params.grad.zero_()"
      ],
      "execution_count": 11,
      "outputs": [
        {
          "output_type": "stream",
          "name": "stdout",
          "text": [
            "Param values: 2.0471, 2.2429, 0.33863 Gradients: -171.6, -130.9,  -33.74 \n",
            "Param values: 2.5216, 2.7068, 0.44905 Gradients: -47.45, -46.39,  -11.04 \n",
            "Param values: 2.6233, 2.9088, 0.48993 Gradients: -10.17, -20.19,  -4.087 \n",
            "Param values: 2.6153, 3.0262, 0.50906 Gradients: 0.7976, -11.74,  -1.913 \n",
            "Param values: 2.5773, 3.1132, 0.52102 Gradients: 3.802, -8.707,  -1.196 \n",
            "Param values: 2.5331, 3.1868, 0.53026 Gradients: 4.418, -7.361,  -0.9244 \n",
            "Param values: 2.4897, 3.2525, 0.53819 Gradients: 4.334, -6.562,  -0.7931 \n",
            "Param values: 2.4491, 3.3121, 0.54528 Gradients: 4.061, -5.961,  -0.7084 \n",
            "Param values: 2.4116, 3.3666, 0.55169 Gradients: 3.75, -5.45,  -0.6416 \n",
            "Param values: 2.3772, 3.4165, 0.55753 Gradients: 3.447, -4.994,  -0.5835 \n",
            "Param values: 2.3455, 3.4623, 0.56284 Gradients: 3.163, -4.579,  -0.5313 \n",
            "Param values: 2.3165, 3.5043, 0.56768 Gradients: 2.901, -4.199,  -0.4838 \n",
            "Param values: 2.2899, 3.5428, 0.57208 Gradients: 2.661, -3.851,  -0.4403 \n",
            "Param values: 2.2655, 3.5781, 0.57609 Gradients: 2.44, -3.533,  -0.4004 \n",
            "Param values: 2.2431, 3.6105, 0.57973 Gradients: 2.238, -3.24,  -0.3639 \n",
            "Param values: 2.2226, 3.6403, 0.58303 Gradients: 2.052, -2.972,  -0.3304 \n",
            "Param values: 2.2038, 3.6675, 0.58603 Gradients: 1.882, -2.726,  -0.2997 \n",
            "Param values: 2.1865, 3.6925, 0.58874 Gradients: 1.725, -2.501,  -0.2715 \n",
            "Param values: 2.1707, 3.7155, 0.5912 Gradients: 1.582, -2.294,  -0.2457 \n",
            "Param values: 2.1562, 3.7365, 0.59342 Gradients: 1.451, -2.105,  -0.2221 \n",
            "Param values: 2.1429, 3.7558, 0.59542 Gradients: 1.33, -1.931,  -0.2004 \n",
            "Param values: 2.1307, 3.7735, 0.59723 Gradients: 1.22, -1.771,  -0.1805 \n",
            "Param values: 2.1195, 3.7898, 0.59885 Gradients: 1.118, -1.625,  -0.1623 \n",
            "Param values: 2.1093, 3.8047, 0.60031 Gradients: 1.025, -1.491,  -0.1457 \n",
            "Param values: 2.0999, 3.8184, 0.60161 Gradients: 0.9402, -1.368,  -0.1304 \n",
            "Param values: 2.0913, 3.8309, 0.60278 Gradients: 0.862, -1.255,  -0.1164 \n",
            "Param values: 2.0834, 3.8424, 0.60381 Gradients: 0.7904, -1.151,  -0.1035 \n",
            "Param values: 2.0761, 3.853, 0.60473 Gradients: 0.7246, -1.056,  -0.09177 \n",
            "Param values: 2.0695, 3.8627, 0.60554 Gradients: 0.6643, -0.9694,  -0.081 \n",
            "Param values: 2.0634, 3.8716, 0.60625 Gradients: 0.609, -0.8895,  -0.07113 \n",
            "Param values: 2.0578, 3.8797, 0.60687 Gradients: 0.5584, -0.8163,  -0.06209 \n",
            "Param values: 2.0527, 3.8872, 0.60741 Gradients: 0.5118, -0.7492,  -0.05382 \n",
            "Param values: 2.048, 3.8941, 0.60787 Gradients: 0.4692, -0.6876,  -0.04624 \n",
            "Param values: 2.0437, 3.9004, 0.60826 Gradients: 0.4301, -0.6311,  -0.03931 \n",
            "Param values: 2.0397, 3.9062, 0.60859 Gradients: 0.3943, -0.5793,  -0.03296 \n",
            "Param values: 2.0361, 3.9115, 0.60887 Gradients: 0.3614, -0.5318,  -0.02715 \n",
            "Param values: 2.0328, 3.9164, 0.60908 Gradients: 0.3312, -0.4883,  -0.02183 \n",
            "Param values: 2.0298, 3.9209, 0.60925 Gradients: 0.3035, -0.4483,  -0.01697 \n",
            "Param values: 2.027, 3.925, 0.60938 Gradients: 0.2782, -0.4117,  -0.01252 \n",
            "Param values: 2.0245, 3.9288, 0.60946 Gradients: 0.2549, -0.3781,  -0.008447 \n",
            "Param values: 2.0221, 3.9323, 0.60951 Gradients: 0.2336, -0.3472,  -0.004728 \n",
            "Param values: 2.02, 3.9355, 0.60952 Gradients: 0.214, -0.319,  -0.001328 \n",
            "Param values: 2.018, 3.9384, 0.60951 Gradients: 0.1961, -0.293,  0.001779 \n",
            "Param values: 2.0162, 3.9411, 0.60946 Gradients: 0.1796, -0.2692,  0.004615 \n",
            "Param values: 2.0146, 3.9436, 0.60939 Gradients: 0.1645, -0.2474,  0.007204 \n",
            "Param values: 2.0131, 3.9458, 0.60929 Gradients: 0.1507, -0.2274,  0.009571 \n",
            "Param values: 2.0117, 3.9479, 0.60917 Gradients: 0.138, -0.2091,  0.01173 \n",
            "Param values: 2.0104, 3.9498, 0.60904 Gradients: 0.1264, -0.1922,  0.0137 \n",
            "Param values: 2.0093, 3.9516, 0.60888 Gradients: 0.1157, -0.1768,  0.01548 \n",
            "Param values: 2.0082, 3.9532, 0.60871 Gradients: 0.1059, -0.1626,  0.01712 \n",
            "Param values: 2.0072, 3.9547, 0.60853 Gradients: 0.09693, -0.1497,  0.0186 \n",
            "Param values: 2.0063, 3.9561, 0.60833 Gradients: 0.08871, -0.1378,  0.01996 \n",
            "Param values: 2.0055, 3.9574, 0.60811 Gradients: 0.08116, -0.1268,  0.02118 \n",
            "Param values: 2.0048, 3.9586, 0.60789 Gradients: 0.07426, -0.1168,  0.0223 \n",
            "Param values: 2.0041, 3.9596, 0.60766 Gradients: 0.0679, -0.1076,  0.02331 \n",
            "Param values: 2.0035, 3.9606, 0.60742 Gradients: 0.06209, -0.09917,  0.02423 \n",
            "Param values: 2.0029, 3.9615, 0.60717 Gradients: 0.05675, -0.09144,  0.02506 \n",
            "Param values: 2.0024, 3.9624, 0.60691 Gradients: 0.05186, -0.08434,  0.02581 \n",
            "Param values: 2.0019, 3.9632, 0.60664 Gradients: 0.04737, -0.07783,  0.02648 \n",
            "Param values: 2.0015, 3.9639, 0.60637 Gradients: 0.04326, -0.07186,  0.0271 \n",
            "Param values: 2.0011, 3.9645, 0.6061 Gradients: 0.0395, -0.06638,  0.02765 \n",
            "Param values: 2.0007, 3.9652, 0.60581 Gradients: 0.03602, -0.06137,  0.02813 \n",
            "Param values: 2.0004, 3.9657, 0.60553 Gradients: 0.03286, -0.05675,  0.02858 \n",
            "Param values: 2.0001, 3.9662, 0.60524 Gradients: 0.02996, -0.05251,  0.02897 \n",
            "Param values: 1.9998, 3.9667, 0.60495 Gradients: 0.02728, -0.04863,  0.02932 \n",
            "Param values: 1.9996, 3.9672, 0.60465 Gradients: 0.02484, -0.04507,  0.02963 \n",
            "Param values: 1.9994, 3.9676, 0.60435 Gradients: 0.0226, -0.04181,  0.0299 \n",
            "Param values: 1.9992, 3.968, 0.60405 Gradients: 0.02054, -0.03881,  0.03015 \n",
            "Param values: 1.999, 3.9684, 0.60374 Gradients: 0.01867, -0.03605,  0.03036 \n",
            "Param values: 1.9988, 3.9687, 0.60344 Gradients: 0.01694, -0.03352,  0.03054 \n",
            "Param values: 1.9987, 3.969, 0.60313 Gradients: 0.01535, -0.03121,  0.0307 \n",
            "Param values: 1.9985, 3.9693, 0.60282 Gradients: 0.01391, -0.02908,  0.03083 \n",
            "Param values: 1.9984, 3.9696, 0.60251 Gradients: 0.01258, -0.02712,  0.03094 \n",
            "Param values: 1.9983, 3.9698, 0.6022 Gradients: 0.01136, -0.02533,  0.03103 \n",
            "Param values: 1.9982, 3.97, 0.60189 Gradients: 0.01023, -0.02369,  0.03111 \n",
            "Param values: 1.9981, 3.9703, 0.60158 Gradients: 0.009225, -0.02216,  0.03117 \n",
            "Param values: 1.998, 3.9705, 0.60127 Gradients: 0.008281, -0.02078,  0.03121 \n",
            "Param values: 1.9979, 3.9707, 0.60096 Gradients: 0.007415, -0.01951,  0.03124 \n",
            "Param values: 1.9979, 3.9709, 0.60064 Gradients: 0.006629, -0.01834,  0.03126 \n",
            "Param values: 1.9978, 3.971, 0.60033 Gradients: 0.005917, -0.01726,  0.03127 \n",
            "Param values: 1.9977, 3.9712, 0.60002 Gradients: 0.005248, -0.01628,  0.03126 \n",
            "Param values: 1.9977, 3.9713, 0.59971 Gradients: 0.004649, -0.01537,  0.03125 \n",
            "Param values: 1.9977, 3.9715, 0.59939 Gradients: 0.004093, -0.01453,  0.03122 \n",
            "Param values: 1.9976, 3.9716, 0.59908 Gradients: 0.003583, -0.01376,  0.03119 \n",
            "Param values: 1.9976, 3.9718, 0.59877 Gradients: 0.00312, -0.01306,  0.03115 \n",
            "Param values: 1.9976, 3.9719, 0.59846 Gradients: 0.002679, -0.01242,  0.03111 \n",
            "Param values: 1.9975, 3.972, 0.59815 Gradients: 0.002302, -0.01181,  0.03106 \n",
            "Param values: 1.9975, 3.9721, 0.59784 Gradients: 0.001942, -0.01127,  0.031 \n",
            "Param values: 1.9975, 3.9722, 0.59753 Gradients: 0.00162, -0.01076,  0.03094 \n",
            "Param values: 1.9975, 3.9723, 0.59722 Gradients: 0.001315, -0.0103,  0.03087 \n",
            "Param values: 1.9975, 3.9724, 0.59691 Gradients: 0.00104, -0.009877,  0.0308 \n",
            "Param values: 1.9975, 3.9725, 0.59661 Gradients: 0.0007857, -0.009486,  0.03073 \n",
            "Param values: 1.9975, 3.9726, 0.5963 Gradients: 0.0005663, -0.009118,  0.03065 \n",
            "Param values: 1.9975, 3.9727, 0.59599 Gradients: 0.0003549, -0.008784,  0.03057 \n",
            "Param values: 1.9975, 3.9728, 0.59569 Gradients: 0.0001488, -0.008486,  0.03048 \n",
            "Param values: 1.9975, 3.9729, 0.59538 Gradients: -6.676e-06, -0.008189,  0.0304 \n",
            "Param values: 1.9975, 3.9729, 0.59508 Gradients: -0.0001718, -0.007931,  0.03031 \n",
            "Param values: 1.9975, 3.973, 0.59478 Gradients: -0.0003212, -0.00769,  0.03022 \n",
            "Param values: 1.9975, 3.9731, 0.59448 Gradients: -0.0004388, -0.007457,  0.03013 \n",
            "Param values: 1.9975, 3.9732, 0.59418 Gradients: -0.000572, -0.007255,  0.03004 \n",
            "Param values: 1.9975, 3.9732, 0.59388 Gradients: -0.0006921, -0.007072,  0.02994 \n",
            "Param values: 1.9975, 3.9733, 0.59358 Gradients: -0.0007788, -0.006884,  0.02984 \n",
            "Param values: 1.9975, 3.9734, 0.59328 Gradients: -0.0008721, -0.006722,  0.02975 \n",
            "Param values: 1.9975, 3.9734, 0.59299 Gradients: -0.0009656, -0.006577,  0.02965 \n",
            "Param values: 1.9975, 3.9735, 0.59269 Gradients: -0.001024, -0.006421,  0.02955 \n",
            "Param values: 1.9975, 3.9736, 0.5924 Gradients: -0.00111, -0.006307,  0.02944 \n",
            "Param values: 1.9975, 3.9736, 0.5921 Gradients: -0.001171, -0.006179,  0.02934 \n",
            "Param values: 1.9976, 3.9737, 0.59181 Gradients: -0.001233, -0.00607,  0.02924 \n",
            "Param values: 1.9976, 3.9738, 0.59152 Gradients: -0.001274, -0.005953,  0.02914 \n",
            "Param values: 1.9976, 3.9738, 0.59123 Gradients: -0.001325, -0.005863,  0.02904 \n",
            "Param values: 1.9976, 3.9739, 0.59094 Gradients: -0.00137, -0.005773,  0.02893 \n",
            "Param values: 1.9976, 3.9739, 0.59065 Gradients: -0.001406, -0.005684,  0.02883 \n",
            "Param values: 1.9976, 3.974, 0.59036 Gradients: -0.001446, -0.005609,  0.02872 \n",
            "Param values: 1.9976, 3.974, 0.59008 Gradients: -0.001472, -0.005536,  0.02862 \n",
            "Param values: 1.9977, 3.9741, 0.58979 Gradients: -0.001507, -0.005469,  0.02852 \n",
            "Param values: 1.9977, 3.9741, 0.58951 Gradients: -0.001527, -0.005397,  0.02841 \n",
            "Param values: 1.9977, 3.9742, 0.58923 Gradients: -0.001552, -0.00534,  0.02831 \n",
            "Param values: 1.9977, 3.9742, 0.58894 Gradients: -0.001568, -0.00528,  0.0282 \n",
            "Param values: 1.9977, 3.9743, 0.58866 Gradients: -0.001584, -0.005224,  0.0281 \n",
            "Param values: 1.9977, 3.9744, 0.58838 Gradients: -0.00161, -0.005178,  0.02799 \n",
            "Param values: 1.9978, 3.9744, 0.5881 Gradients: -0.001608, -0.005118,  0.02789 \n",
            "Param values: 1.9978, 3.9745, 0.58783 Gradients: -0.001623, -0.005072,  0.02779 \n",
            "Param values: 1.9978, 3.9745, 0.58755 Gradients: -0.001635, -0.005031,  0.02768 \n",
            "Param values: 1.9978, 3.9746, 0.58727 Gradients: -0.001651, -0.004997,  0.02758 \n",
            "Param values: 1.9978, 3.9746, 0.587 Gradients: -0.001645, -0.004943,  0.02748 \n",
            "Param values: 1.9978, 3.9747, 0.58672 Gradients: -0.001664, -0.004916,  0.02737 \n",
            "Param values: 1.9979, 3.9747, 0.58645 Gradients: -0.001665, -0.004879,  0.02727 \n",
            "Param values: 1.9979, 3.9748, 0.58618 Gradients: -0.00166, -0.004836,  0.02717 \n",
            "Param values: 1.9979, 3.9748, 0.58591 Gradients: -0.001679, -0.00481,  0.02706 \n",
            "Param values: 1.9979, 3.9748, 0.58564 Gradients: -0.001675, -0.004774,  0.02696 \n",
            "Param values: 1.9979, 3.9749, 0.58537 Gradients: -0.001678, -0.004748,  0.02686 \n",
            "Param values: 1.9979, 3.9749, 0.5851 Gradients: -0.001675, -0.004714,  0.02676 \n",
            "Param values: 1.998, 3.975, 0.58484 Gradients: -0.001684, -0.004694,  0.02665 \n",
            "Param values: 1.998, 3.975, 0.58457 Gradients: -0.001674, -0.004655,  0.02655 \n",
            "Param values: 1.998, 3.9751, 0.58431 Gradients: -0.001683, -0.004636,  0.02645 \n",
            "Param values: 1.998, 3.9751, 0.58404 Gradients: -0.001683, -0.00461,  0.02635 \n",
            "Param values: 1.998, 3.9752, 0.58378 Gradients: -0.001686, -0.004588,  0.02625 \n",
            "Param values: 1.998, 3.9752, 0.58352 Gradients: -0.001687, -0.004569,  0.02615 \n",
            "Param values: 1.9981, 3.9753, 0.58326 Gradients: -0.001676, -0.004539,  0.02605 \n",
            "Param values: 1.9981, 3.9753, 0.583 Gradients: -0.001664, -0.00451,  0.02595 \n",
            "Param values: 1.9981, 3.9754, 0.58274 Gradients: -0.001662, -0.004491,  0.02585 \n",
            "Param values: 1.9981, 3.9754, 0.58248 Gradients: -0.001671, -0.004474,  0.02575 \n",
            "Param values: 1.9981, 3.9754, 0.58223 Gradients: -0.001662, -0.004449,  0.02565 \n",
            "Param values: 1.9981, 3.9755, 0.58197 Gradients: -0.00166, -0.004428,  0.02555 \n",
            "Param values: 1.9982, 3.9755, 0.58172 Gradients: -0.001656, -0.004409,  0.02545 \n",
            "Param values: 1.9982, 3.9756, 0.58146 Gradients: -0.00164, -0.004375,  0.02536 \n",
            "Param values: 1.9982, 3.9756, 0.58121 Gradients: -0.001652, -0.00437,  0.02526 \n",
            "Param values: 1.9982, 3.9757, 0.58096 Gradients: -0.001632, -0.004338,  0.02516 \n",
            "Param values: 1.9982, 3.9757, 0.58071 Gradients: -0.00164, -0.004328,  0.02506 \n",
            "Param values: 1.9982, 3.9757, 0.58046 Gradients: -0.00162, -0.004301,  0.02497 \n",
            "Param values: 1.9983, 3.9758, 0.58021 Gradients: -0.001626, -0.004288,  0.02487 \n",
            "Param values: 1.9983, 3.9758, 0.57996 Gradients: -0.001621, -0.004267,  0.02478 \n",
            "Param values: 1.9983, 3.9759, 0.57972 Gradients: -0.001621, -0.004254,  0.02468 \n",
            "Param values: 1.9983, 3.9759, 0.57947 Gradients: -0.001614, -0.004235,  0.02459 \n",
            "Param values: 1.9983, 3.976, 0.57923 Gradients: -0.001608, -0.004213,  0.02449 \n",
            "Param values: 1.9983, 3.976, 0.57898 Gradients: -0.001604, -0.0042,  0.0244 \n",
            "Param values: 1.9983, 3.976, 0.57874 Gradients: -0.001595, -0.004181,  0.0243 \n",
            "Param values: 1.9984, 3.9761, 0.5785 Gradients: -0.001592, -0.004163,  0.02421 \n",
            "Param values: 1.9984, 3.9761, 0.57825 Gradients: -0.001587, -0.004145,  0.02412 \n",
            "Param values: 1.9984, 3.9762, 0.57801 Gradients: -0.001577, -0.004125,  0.02403 \n",
            "Param values: 1.9984, 3.9762, 0.57778 Gradients: -0.001572, -0.004109,  0.02393 \n",
            "Param values: 1.9984, 3.9763, 0.57754 Gradients: -0.001574, -0.0041,  0.02384 \n",
            "Param values: 1.9984, 3.9763, 0.5773 Gradients: -0.001556, -0.004073,  0.02375 \n",
            "Param values: 1.9985, 3.9763, 0.57706 Gradients: -0.001559, -0.004062,  0.02366 \n",
            "Param values: 1.9985, 3.9764, 0.57683 Gradients: -0.001549, -0.004044,  0.02357 \n",
            "Param values: 1.9985, 3.9764, 0.57659 Gradients: -0.001541, -0.004024,  0.02348 \n",
            "Param values: 1.9985, 3.9765, 0.57636 Gradients: -0.001554, -0.00402,  0.02338 \n",
            "Param values: 1.9985, 3.9765, 0.57613 Gradients: -0.001529, -0.003992,  0.02329 \n",
            "Param values: 1.9985, 3.9765, 0.57589 Gradients: -0.001539, -0.003988,  0.0232 \n",
            "Param values: 1.9985, 3.9766, 0.57566 Gradients: -0.001534, -0.003971,  0.02311 \n",
            "Param values: 1.9986, 3.9766, 0.57543 Gradients: -0.001515, -0.003951,  0.02303 \n",
            "Param values: 1.9986, 3.9767, 0.5752 Gradients: -0.001513, -0.003932,  0.02294 \n",
            "Param values: 1.9986, 3.9767, 0.57497 Gradients: -0.001498, -0.003912,  0.02285 \n",
            "Param values: 1.9986, 3.9767, 0.57475 Gradients: -0.001508, -0.003907,  0.02276 \n",
            "Param values: 1.9986, 3.9768, 0.57452 Gradients: -0.001497, -0.003887,  0.02267 \n",
            "Param values: 1.9986, 3.9768, 0.57429 Gradients: -0.001492, -0.003872,  0.02259 \n",
            "Param values: 1.9987, 3.9768, 0.57407 Gradients: -0.001488, -0.003858,  0.0225 \n",
            "Param values: 1.9987, 3.9769, 0.57384 Gradients: -0.001475, -0.003838,  0.02241 \n",
            "Param values: 1.9987, 3.9769, 0.57362 Gradients: -0.001472, -0.003828,  0.02232 \n",
            "Param values: 1.9987, 3.977, 0.5734 Gradients: -0.001465, -0.003811,  0.02224 \n",
            "Param values: 1.9987, 3.977, 0.57318 Gradients: -0.001467, -0.003801,  0.02215 \n",
            "Param values: 1.9987, 3.977, 0.57296 Gradients: -0.001464, -0.003788,  0.02207 \n",
            "Param values: 1.9987, 3.9771, 0.57274 Gradients: -0.001449, -0.003767,  0.02198 \n",
            "Param values: 1.9988, 3.9771, 0.57252 Gradients: -0.001442, -0.003751,  0.0219 \n",
            "Param values: 1.9988, 3.9772, 0.5723 Gradients: -0.001444, -0.003743,  0.02181 \n",
            "Param values: 1.9988, 3.9772, 0.57208 Gradients: -0.001441, -0.003728,  0.02173 \n",
            "Param values: 1.9988, 3.9772, 0.57187 Gradients: -0.001437, -0.003716,  0.02164 \n",
            "Param values: 1.9988, 3.9773, 0.57165 Gradients: -0.001414, -0.00369,  0.02156 \n",
            "Param values: 1.9988, 3.9773, 0.57144 Gradients: -0.001411, -0.003677,  0.02148 \n",
            "Param values: 1.9988, 3.9773, 0.57122 Gradients: -0.001415, -0.003664,  0.0214 \n",
            "Param values: 1.9989, 3.9774, 0.57101 Gradients: -0.001407, -0.003653,  0.02131 \n",
            "Param values: 1.9989, 3.9774, 0.5708 Gradients: -0.001408, -0.003642,  0.02123 \n",
            "Param values: 1.9989, 3.9774, 0.57059 Gradients: -0.001395, -0.003624,  0.02115 \n",
            "Param values: 1.9989, 3.9775, 0.57037 Gradients: -0.001397, -0.003615,  0.02107 \n",
            "Param values: 1.9989, 3.9775, 0.57016 Gradients: -0.001384, -0.003595,  0.02099 \n",
            "Param values: 1.9989, 3.9776, 0.56996 Gradients: -0.001387, -0.003586,  0.0209 \n",
            "Param values: 1.9989, 3.9776, 0.56975 Gradients: -0.001374, -0.003569,  0.02083 \n",
            "Param values: 1.999, 3.9776, 0.56954 Gradients: -0.001369, -0.003551,  0.02075 \n",
            "Param values: 1.999, 3.9777, 0.56933 Gradients: -0.001371, -0.003544,  0.02066 \n",
            "Param values: 1.999, 3.9777, 0.56913 Gradients: -0.001354, -0.003523,  0.02059 \n",
            "Param values: 1.999, 3.9777, 0.56892 Gradients: -0.001351, -0.003511,  0.02051 \n",
            "Param values: 1.999, 3.9778, 0.56872 Gradients: -0.001349, -0.003497,  0.02043 \n",
            "Param values: 1.999, 3.9778, 0.56851 Gradients: -0.001351, -0.003488,  0.02035 \n",
            "Param values: 1.999, 3.9778, 0.56831 Gradients: -0.00134, -0.003472,  0.02027 \n",
            "Param values: 1.999, 3.9779, 0.56811 Gradients: -0.001342, -0.00346,  0.02019 \n",
            "Param values: 1.9991, 3.9779, 0.56791 Gradients: -0.001328, -0.003446,  0.02011 \n",
            "Param values: 1.9991, 3.9779, 0.56771 Gradients: -0.001321, -0.003428,  0.02004 \n",
            "Param values: 1.9991, 3.978, 0.56751 Gradients: -0.00132, -0.003418,  0.01996 \n",
            "Param values: 1.9991, 3.978, 0.56731 Gradients: -0.001318, -0.00341,  0.01988 \n",
            "Param values: 1.9991, 3.978, 0.56711 Gradients: -0.001304, -0.003387,  0.01981 \n",
            "Param values: 1.9991, 3.9781, 0.56691 Gradients: -0.001309, -0.003384,  0.01973 \n",
            "Param values: 1.9991, 3.9781, 0.56672 Gradients: -0.0013, -0.003368,  0.01965 \n",
            "Param values: 1.9992, 3.9781, 0.56652 Gradients: -0.00129, -0.003353,  0.01958 \n",
            "Param values: 1.9992, 3.9782, 0.56633 Gradients: -0.001292, -0.003344,  0.0195 \n",
            "Param values: 1.9992, 3.9782, 0.56613 Gradients: -0.001292, -0.003335,  0.01942 \n",
            "Param values: 1.9992, 3.9782, 0.56594 Gradients: -0.00128, -0.003318,  0.01935 \n",
            "Param values: 1.9992, 3.9783, 0.56575 Gradients: -0.001282, -0.003305,  0.01928 \n",
            "Param values: 1.9992, 3.9783, 0.56555 Gradients: -0.001269, -0.003288,  0.0192 \n",
            "Param values: 1.9992, 3.9783, 0.56536 Gradients: -0.001258, -0.003272,  0.01913 \n",
            "Param values: 1.9992, 3.9784, 0.56517 Gradients: -0.001263, -0.003267,  0.01905 \n",
            "Param values: 1.9993, 3.9784, 0.56498 Gradients: -0.001259, -0.003253,  0.01898 \n",
            "Param values: 1.9993, 3.9784, 0.56479 Gradients: -0.001252, -0.003243,  0.01891 \n",
            "Param values: 1.9993, 3.9785, 0.56461 Gradients: -0.001242, -0.003227,  0.01884 \n",
            "Param values: 1.9993, 3.9785, 0.56442 Gradients: -0.001243, -0.003218,  0.01876 \n",
            "Param values: 1.9993, 3.9785, 0.56423 Gradients: -0.001232, -0.003202,  0.01869 \n",
            "Param values: 1.9993, 3.9786, 0.56405 Gradients: -0.001236, -0.003192,  0.01862 \n",
            "Param values: 1.9993, 3.9786, 0.56386 Gradients: -0.001232, -0.003184,  0.01854 \n",
            "Param values: 1.9993, 3.9786, 0.56367 Gradients: -0.001224, -0.003167,  0.01847 \n",
            "Param values: 1.9994, 3.9787, 0.56349 Gradients: -0.001211, -0.003148,  0.0184 \n",
            "Param values: 1.9994, 3.9787, 0.56331 Gradients: -0.001214, -0.003142,  0.01833 \n",
            "Param values: 1.9994, 3.9787, 0.56312 Gradients: -0.001197, -0.003122,  0.01826 \n",
            "Param values: 1.9994, 3.9788, 0.56294 Gradients: -0.001201, -0.003113,  0.01819 \n",
            "Param values: 1.9994, 3.9788, 0.56276 Gradients: -0.001201, -0.003106,  0.01812 \n",
            "Param values: 1.9994, 3.9788, 0.56258 Gradients: -0.001196, -0.003094,  0.01805 \n",
            "Param values: 1.9994, 3.9788, 0.5624 Gradients: -0.001188, -0.003083,  0.01798 \n",
            "Param values: 1.9994, 3.9789, 0.56222 Gradients: -0.001192, -0.003075,  0.01791 \n",
            "Param values: 1.9994, 3.9789, 0.56204 Gradients: -0.001181, -0.003059,  0.01784 \n",
            "Param values: 1.9995, 3.9789, 0.56187 Gradients: -0.001177, -0.003047,  0.01777 \n",
            "Param values: 1.9995, 3.979, 0.56169 Gradients: -0.00116, -0.003026,  0.01771 \n",
            "Param values: 1.9995, 3.979, 0.56151 Gradients: -0.00117, -0.003026,  0.01764 \n",
            "Param values: 1.9995, 3.979, 0.56134 Gradients: -0.001164, -0.00301,  0.01757 \n",
            "Param values: 1.9995, 3.9791, 0.56116 Gradients: -0.001159, -0.002999,  0.0175 \n",
            "Param values: 1.9995, 3.9791, 0.56099 Gradients: -0.001156, -0.002992,  0.01743 \n",
            "Param values: 1.9995, 3.9791, 0.56081 Gradients: -0.001137, -0.002967,  0.01737 \n",
            "Param values: 1.9995, 3.9791, 0.56064 Gradients: -0.001153, -0.002973,  0.0173 \n",
            "Param values: 1.9996, 3.9792, 0.56047 Gradients: -0.001135, -0.002952,  0.01723 \n",
            "Param values: 1.9996, 3.9792, 0.5603 Gradients: -0.00114, -0.002948,  0.01717 \n",
            "Param values: 1.9996, 3.9792, 0.56013 Gradients: -0.001124, -0.002925,  0.0171 \n",
            "Param values: 1.9996, 3.9793, 0.55996 Gradients: -0.001125, -0.002916,  0.01703 \n",
            "Param values: 1.9996, 3.9793, 0.55979 Gradients: -0.001121, -0.002908,  0.01697 \n",
            "Param values: 1.9996, 3.9793, 0.55962 Gradients: -0.001119, -0.002895,  0.0169 \n",
            "Param values: 1.9996, 3.9794, 0.55945 Gradients: -0.00112, -0.002891,  0.01684 \n",
            "Param values: 1.9996, 3.9794, 0.55928 Gradients: -0.001108, -0.002875,  0.01677 \n",
            "Param values: 1.9996, 3.9794, 0.55911 Gradients: -0.001109, -0.002867,  0.01671 \n",
            "Param values: 1.9997, 3.9794, 0.55895 Gradients: -0.0011, -0.002855,  0.01664 \n",
            "Param values: 1.9997, 3.9795, 0.55878 Gradients: -0.001097, -0.002842,  0.01658 \n",
            "Param values: 1.9997, 3.9795, 0.55862 Gradients: -0.001094, -0.002833,  0.01652 \n",
            "Param values: 1.9997, 3.9795, 0.55845 Gradients: -0.001081, -0.002813,  0.01645 \n",
            "Param values: 1.9997, 3.9796, 0.55829 Gradients: -0.001078, -0.002804,  0.01639 \n",
            "Param values: 1.9997, 3.9796, 0.55812 Gradients: -0.001072, -0.002794,  0.01633 \n",
            "Param values: 1.9997, 3.9796, 0.55796 Gradients: -0.001079, -0.002789,  0.01626 \n",
            "Param values: 1.9997, 3.9796, 0.5578 Gradients: -0.001076, -0.002781,  0.0162 \n",
            "Param values: 1.9997, 3.9797, 0.55764 Gradients: -0.001062, -0.002758,  0.01614 \n",
            "Param values: 1.9998, 3.9797, 0.55748 Gradients: -0.001057, -0.002747,  0.01608 \n",
            "Param values: 1.9998, 3.9797, 0.55732 Gradients: -0.001066, -0.00275,  0.01601 \n",
            "Param values: 1.9998, 3.9797, 0.55716 Gradients: -0.001062, -0.002738,  0.01595 \n",
            "Param values: 1.9998, 3.9798, 0.557 Gradients: -0.001049, -0.00272,  0.01589 \n",
            "Param values: 1.9998, 3.9798, 0.55684 Gradients: -0.001048, -0.002711,  0.01583 \n",
            "Param values: 1.9998, 3.9798, 0.55668 Gradients: -0.001036, -0.002697,  0.01577 \n",
            "Param values: 1.9998, 3.9799, 0.55653 Gradients: -0.001047, -0.002698,  0.01571 \n",
            "Param values: 1.9998, 3.9799, 0.55637 Gradients: -0.001032, -0.00268,  0.01565 \n",
            "Param values: 1.9998, 3.9799, 0.55621 Gradients: -0.001034, -0.002676,  0.01559 \n",
            "Param values: 1.9998, 3.9799, 0.55606 Gradients: -0.001025, -0.002662,  0.01553 \n",
            "Param values: 1.9999, 3.98, 0.5559 Gradients: -0.001019, -0.002649,  0.01547 \n",
            "Param values: 1.9999, 3.98, 0.55575 Gradients: -0.001015, -0.002637,  0.01541 \n",
            "Param values: 1.9999, 3.98, 0.5556 Gradients: -0.001015, -0.002634,  0.01535 \n",
            "Param values: 1.9999, 3.98, 0.55544 Gradients: -0.001014, -0.002624,  0.01529 \n",
            "Param values: 1.9999, 3.9801, 0.55529 Gradients: -0.001018, -0.002618,  0.01523 \n",
            "Param values: 1.9999, 3.9801, 0.55514 Gradients: -0.0009971, -0.002598,  0.01517 \n",
            "Param values: 1.9999, 3.9801, 0.55499 Gradients: -0.0009918, -0.002582,  0.01511 \n",
            "Param values: 1.9999, 3.9801, 0.55484 Gradients: -0.001002, -0.002584,  0.01505 \n",
            "Param values: 1.9999, 3.9802, 0.55469 Gradients: -0.0009976, -0.002577,  0.01499 \n",
            "Param values: 1.9999, 3.9802, 0.55454 Gradients: -0.0009917, -0.002563,  0.01494 \n",
            "Param values: 2.0, 3.9802, 0.55439 Gradients: -0.0009818, -0.002551,  0.01488 \n",
            "Param values: 2.0, 3.9802, 0.55424 Gradients: -0.0009775, -0.002541,  0.01482 \n",
            "Param values: 2.0, 3.9803, 0.55409 Gradients: -0.0009794, -0.002535,  0.01476 \n",
            "Param values: 2.0, 3.9803, 0.55395 Gradients: -0.0009721, -0.002521,  0.01471 \n",
            "Param values: 2.0, 3.9803, 0.5538 Gradients: -0.0009643, -0.002508,  0.01465 \n",
            "Param values: 2.0, 3.9803, 0.55365 Gradients: -0.0009689, -0.002508,  0.01459 \n",
            "Param values: 2.0, 3.9804, 0.55351 Gradients: -0.0009658, -0.002497,  0.01454 \n",
            "Param values: 2.0, 3.9804, 0.55336 Gradients: -0.0009489, -0.002476,  0.01448 \n",
            "Param values: 2.0, 3.9804, 0.55322 Gradients: -0.0009502, -0.002471,  0.01443 \n",
            "Param values: 2.0, 3.9804, 0.55308 Gradients: -0.0009386, -0.002455,  0.01437 \n",
            "Param values: 2.0001, 3.9805, 0.55293 Gradients: -0.0009478, -0.002454,  0.01432 \n",
            "Param values: 2.0001, 3.9805, 0.55279 Gradients: -0.0009395, -0.00244,  0.01426 \n",
            "Param values: 2.0001, 3.9805, 0.55265 Gradients: -0.0009494, -0.00244,  0.0142 \n",
            "Param values: 2.0001, 3.9805, 0.55251 Gradients: -0.0009351, -0.002426,  0.01415 \n",
            "Param values: 2.0001, 3.9806, 0.55237 Gradients: -0.0009394, -0.002421,  0.01409 \n",
            "Param values: 2.0001, 3.9806, 0.55223 Gradients: -0.0009278, -0.002408,  0.01404 \n",
            "Param values: 2.0001, 3.9806, 0.55209 Gradients: -0.000922, -0.002395,  0.01399 \n"
          ]
        }
      ]
    },
    {
      "cell_type": "code",
      "metadata": {
        "id": "-TlCUXUBKvH8"
      },
      "source": [
        ""
      ],
      "execution_count": 11,
      "outputs": []
    }
  ]
}